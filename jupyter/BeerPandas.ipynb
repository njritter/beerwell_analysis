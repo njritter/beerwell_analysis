{
 "cells": [
  {
   "cell_type": "code",
   "execution_count": 1,
   "metadata": {
    "collapsed": true
   },
   "outputs": [],
   "source": [
    "import dill\n",
    "import pandas as pd\n",
    "import bs4\n",
    "import re"
   ]
  },
  {
   "cell_type": "code",
   "execution_count": null,
   "metadata": {
    "collapsed": true
   },
   "outputs": [],
   "source": [
    "# Generate pandas data frame containing useful beer information pulled from beer profile (not from reviews). \n",
    "    # Name\n",
    "    # Brewery\n",
    "    # Style"
   ]
  },
  {
   "cell_type": "code",
   "execution_count": 3,
   "metadata": {},
   "outputs": [],
   "source": [
    "# Load all beer profile text\n",
    "\n",
    "path = '/Users/Drazi/Dropbox/beerwell_data/data/rbp/rbp_'\n",
    "beer_profiles = []\n",
    "\n",
    "for i in range(1,251):\n",
    "    beer_profile = dill.load(open(path + str(i) + '.pkd', 'rb'))\n",
    "    beer_profiles.append(beer_profile)"
   ]
  },
  {
   "cell_type": "code",
   "execution_count": 4,
   "metadata": {
    "collapsed": true
   },
   "outputs": [],
   "source": [
    "def get_beer_name(beerSoup):\n",
    "    unclean_name = str(beerSoup.select('h1')) # contains beer name\n",
    "    less_unclean_name = re.split('\\|', unclean_name)[0]\n",
    "    clean_name = re.findall('>(.*?)<', less_unclean_name)\n",
    "    return clean_name[0]"
   ]
  },
  {
   "cell_type": "code",
   "execution_count": 5,
   "metadata": {
    "collapsed": true
   },
   "outputs": [],
   "source": [
    "def get_brewery_name(beerSoup):\n",
    "    unclean_name = str(beerSoup.select('a b')[0]) # contains brewery name\n",
    "    clean_name = re.findall('>(.*?)<', unclean_name)\n",
    "    return clean_name[0]"
   ]
  },
  {
   "cell_type": "code",
   "execution_count": 6,
   "metadata": {
    "collapsed": true
   },
   "outputs": [],
   "source": [
    "def get_style(beerSoup):\n",
    "    unclean_name = str(beerSoup.select('a b')[1]) # contains beer style\n",
    "    clean_name = re.findall('>(.*?)<', unclean_name)\n",
    "    return clean_name[0]"
   ]
  },
  {
   "cell_type": "code",
   "execution_count": 7,
   "metadata": {
    "collapsed": true
   },
   "outputs": [],
   "source": [
    "beer_names = []\n",
    "brewery_names = []\n",
    "styles = []\n",
    "\n",
    "for i in beer_profiles:\n",
    "    beer_names.append(get_beer_name(i))\n",
    "    brewery_names.append(get_brewery_name(i))\n",
    "    styles.append(get_style(i))\n"
   ]
  },
  {
   "cell_type": "code",
   "execution_count": 8,
   "metadata": {
    "collapsed": true
   },
   "outputs": [],
   "source": [
    "df = pd.DataFrame({'Name':beer_names, 'Brewery':brewery_names, 'Style':styles})"
   ]
  },
  {
   "cell_type": "code",
   "execution_count": 26,
   "metadata": {
    "collapsed": true
   },
   "outputs": [],
   "source": [
    "df2 = pd.DataFrame({'Name':beer_names, 'Brewery':brewery_names, 'Style':styles}, index = range(250))"
   ]
  },
  {
   "cell_type": "code",
   "execution_count": 9,
   "metadata": {},
   "outputs": [
    {
     "data": {
      "text/plain": [
       "['Toppling Goliath Brewing Company',\n",
       " 'Kentucky Brunch Brand Stout',\n",
       " 'American Double / Imperial Stout']"
      ]
     },
     "execution_count": 9,
     "metadata": {},
     "output_type": "execute_result"
    }
   ],
   "source": [
    "myLists = df.values.tolist()\n",
    "myLists[0]"
   ]
  },
  {
   "cell_type": "code",
   "execution_count": 32,
   "metadata": {},
   "outputs": [
    {
     "data": {
      "text/plain": [
       "['Toppling Goliath Brewing Company',\n",
       " 'Kentucky Brunch Brand Stout',\n",
       " 'American Double / Imperial Stout']"
      ]
     },
     "execution_count": 32,
     "metadata": {},
     "output_type": "execute_result"
    }
   ],
   "source": [
    "ind = df.iloc[0].tolist()\n",
    "ind"
   ]
  },
  {
   "cell_type": "code",
   "execution_count": 9,
   "metadata": {
    "collapsed": true
   },
   "outputs": [],
   "source": [
    "df.to_pickle('beerpanda.pkd')"
   ]
  },
  {
   "cell_type": "code",
   "execution_count": 12,
   "metadata": {
    "collapsed": true
   },
   "outputs": [],
   "source": [
    "myList = df.Name.tolist()"
   ]
  },
  {
   "cell_type": "code",
   "execution_count": 13,
   "metadata": {},
   "outputs": [
    {
     "data": {
      "text/plain": [
       "'Kentucky Brunch Brand Stout'"
      ]
     },
     "execution_count": 13,
     "metadata": {},
     "output_type": "execute_result"
    }
   ],
   "source": [
    "myList[0]"
   ]
  },
  {
   "cell_type": "code",
   "execution_count": 14,
   "metadata": {
    "collapsed": true
   },
   "outputs": [],
   "source": [
    "test = pd.read_pickle('beerpanda.pkd')"
   ]
  },
  {
   "cell_type": "code",
   "execution_count": 24,
   "metadata": {},
   "outputs": [
    {
     "data": {
      "text/plain": [
       "<pandas.core.indexing._LocIndexer at 0x1278962e8>"
      ]
     },
     "execution_count": 24,
     "metadata": {},
     "output_type": "execute_result"
    }
   ],
   "source": [
    "test.loc(2)"
   ]
  },
  {
   "cell_type": "code",
   "execution_count": 44,
   "metadata": {},
   "outputs": [
    {
     "data": {
      "text/plain": [
       "[0, 1, 2, 3, 4]"
      ]
     },
     "execution_count": 44,
     "metadata": {},
     "output_type": "execute_result"
    }
   ],
   "source": [
    "[*range(5)]"
   ]
  }
 ],
 "metadata": {
  "kernelspec": {
   "display_name": "Python 3",
   "language": "python",
   "name": "python3"
  },
  "language_info": {
   "codemirror_mode": {
    "name": "ipython",
    "version": 3
   },
   "file_extension": ".py",
   "mimetype": "text/x-python",
   "name": "python",
   "nbconvert_exporter": "python",
   "pygments_lexer": "ipython3",
   "version": "3.6.0"
  }
 },
 "nbformat": 4,
 "nbformat_minor": 2
}
