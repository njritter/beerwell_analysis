{
 "cells": [
  {
   "cell_type": "code",
   "execution_count": null,
   "metadata": {
    "collapsed": true
   },
   "outputs": [],
   "source": [
    "# Notes\n",
    "\n",
    "##### Initial Review Text #####\n",
    "\n",
    "# Initial review still has things like: '<br>\\\\n<br>\\\\nS:', 'Mornin\\' Delight', Numbers, \n",
    "# 'friend-of-a-friend\\'s' (maybe split on -)\n",
    "\n",
    "\n",
    "##### PreProcessing #####\n",
    "\n",
    "# Stopwords ... add all beer names / style names? Maybe still worth keeping\n",
    "# ['a',\n",
    "\n",
    "\n",
    "\n"
   ]
  },
  {
   "cell_type": "code",
   "execution_count": null,
   "metadata": {
    "collapsed": true
   },
   "outputs": [],
   "source": []
  },
  {
   "cell_type": "code",
   "execution_count": null,
   "metadata": {
    "collapsed": true
   },
   "outputs": [],
   "source": []
  },
  {
   "cell_type": "code",
   "execution_count": 37,
   "metadata": {
    "collapsed": true
   },
   "outputs": [],
   "source": [
    "import nltk\n",
    "import re\n",
    "import numpy as np\n",
    "import pandas as pd"
   ]
  },
  {
   "cell_type": "code",
   "execution_count": 9,
   "metadata": {
    "collapsed": true
   },
   "outputs": [],
   "source": [
    "path = '/Users/Drazi/beerwell/data/reviews/'\n",
    "\n",
    "reviewList = []\n",
    "for i in range(1,2):\n",
    "    with open(path + 'reviews_' + str(i) + '.txt', 'r') as myfile:\n",
    "        data=myfile.read().replace('\\n', '')\n",
    "    reviewList.append(data)\n",
    "\n",
    "reviews = reviewList[0]"
   ]
  },
  {
   "cell_type": "code",
   "execution_count": 10,
   "metadata": {},
   "outputs": [
    {
     "data": {
      "text/plain": [
       "'Wow. More than lucky to be able to split a bottle of this with their own brewmaster! Lives up to the hype, the flavors keep changing in your mouth and you taste a whole buffet of breakfast, bourbon barrel adds some sweetness.  Sticky and coats your mouth and throat and the taste lingers for a long time.  TG creates some magnificent beers.L: Dinosaur blood with a chocolate milk head. Ultra thick lacing with great legs like T-Swizzle. <br>\\\\n<br>\\\\nS: Coffee, chocolate, maple, and whiskey (nothing new here, just basically copying and pasting what everyone else says). Once you pop the waxed top, the smell of good old fashioned Walmart-style American breakfast wafts throughout the room, lingering for hours to remind you of its greatness, cancelling out all other scents in the air like a heavenly beer Febreze.  <br>\\\\n<br>\\\\nT: Imagine a chewy, whiskey-dipped brownie corner -chased with a shot of maple syrup infused roasted coffee- that assaults your palate with a heavy, sugary sweetness that brings you back to the warm and blissful memories of childhood. This is Mornin\\' Delight elevated to god-tier status with the help from a little time spent in whiskey barrels. The result is sinfully divine. <br>\\\\n<br>\\\\nM: Viscous and unctuous with the perfect amount of carbonation; this the beer that Untappd cicerones dream of when they discuss the term \"mouthfeel.\" This beer sticks to your membranes like Grandma\\'s classic biscuits and gravy. It is magical. It makes you not want to brush your teeth at night.<br>\\\\n<br>\\\\nO:  This is one of the best beers on the planet. However, I expected a life-altering craft beer experience when I opened my hand numbered bottle of Kentucky Brunch Brand Stout (note: a bottle that was hand-handed to me by Mike at Toppling Goliath), and all I got in return was an amazingly good beer and a fantastic evening together with family. Overall, it was a terrific occasion and a memorable event, but not one that stands out in my mind as one of the greatest moments of my existence.  <br>\\\\n<br>\\\\nI drank a $1,200 bottle of beer hoping to redefine the culinary dreams of my adulthood and came out on the other side realizing that it was \"just beer.\" I am now ready to retire from the world of craft beer.Latest batch. Most complex beer I\\'ve had, hands down my number one beer.Did someone say there was maple in the beer??This beer turned out to be everything I wanted it to be. Great maple and coffee nose. Mouthfeel was viscous and coated the inside of my mouth, carrying those maple and coffee flavors with it. DeliciousHuge maple aroma right out of the gate and a vicious, dark pour. Maple dominates the nose but chocolate, barrel, and some coffee see also present. The mouth feel is massive and coats the mouth for days with adequate carbonation. It all makes for an impressive experience, but the taste falls well short of world class. There is a sour note that I also found in Mornin Delight. Some reviews have described it as coffee bitterness, but that\\'s not what I get. It tastes like an off flavor. Since I\\'ve tasted the same thing twice I\\'m quite sure this isn\\'t just a bad bottle. I\\'m not a fan of MD and the barrel aged version doesn\\'t cover over the flaws.A delight for the senses. A perfect beer.2017 silver wax courtesy of Treyliff.  Coincidentally, this is also my 1,000th check in on BA.  <br>\\\\nThis is an exceptional beer worthy of the hype.  It is definitely one to sip and savor with friends,  The mouthfeel lingers and coats the tongue, leaving the wonderful flavors for several minutes between sips.Where do I begin? Dark, rich appearance with creamy mocha brown head. Coffee, chocolate, maple, vanilla and other notes greet the nose after opening; it takes the room! You want to enjoy this before you sip....again sip, and let it rest on the palate. <br>\\\\nThe notes linger nicely and is well balanced with the Barrel. Shared with friends making it very enjoyable....PROST!!2017 release<br>\\\\n12oz bottle poured into a TG tulip<br>\\\\n<br>\\\\nA- pours the thickest stout I\\'ve ever seen, it looks like liquid motor oil and has a thin creamy dark brown head that eventually reduces to a ring around the glass<br>\\\\n<br>\\\\nS- the aroma is so potent and can be smelled from three feet away.  Pure liquid fudge brownie; melted caramel, nutty fudge, mocha, dark chocolate, vanilla whipping cream, toasted dark bread, black strap molasses &amp; dark fruit.  The barrel is noticeable, providing undertones of oak, bourbon, vanilla and a hint of coconut, incredible<br>\\\\n<br>\\\\nT- this tastes like a liquid nutty fudge brownie.  Opens with tons of dark chocolate, brownie batter, melted caramel, black strap molasses and mocha.  Mid-palate brings out the barrel character, adding undertones of woody oak and just enough bourbon to pop through.  The finish is an onslaught of more brownie batter, bourbon, fudge &amp; oak and lingers for five minutes after finishing <br>\\\\n<br>\\\\nM- thick and viscous body with moderate carbonation leads to the thickest mouthfeel I\\'ve experiences in a beer, it\\'s creamy, velvety and silky at the same time.  The alcohol is hidden well and provides just a hint of warmth at the finish<br>\\\\n<br>\\\\nO- I\\'m a skeptic when it comes to hype, but this one lived up to it.  Unlike any beer I\\'ve ever had, the thickest pour, thickest appearance and most intensely flavored stout I\\'ve hadThis beer was definitely on a different level. Everything about it was awesome.Low carbonation, attractive, but the immediately dissipating head renders it less than perfect. <br>\\\\n<br>\\\\nNice nose, pleasant, impressive.  In relative terms to other absolute top tier stouts, it hangs around with them. Lovely, but not a clear stand alone...not a rose among thorns. <br>\\\\n<br>\\\\nGreat mouthfeel. Hard to separate from melted chocolate.  If i could give the mouthfeel a 6/5, i might. <br>\\\\n<br>\\\\nEverything you\\'d want in a stout.  Thick. Declicious. Flavorful.  I\\'m not adding any new information saying tastes of maple, coffee, chocolate, and barrel...the label says much. <br>\\\\n<br>\\\\nIts hard to knock this beer in any category, its outstanding, awesome, amazing, super, and delicious.  Among all beers, its in that highest tier, it doesn\\'t however separate itself within that tier (creating a new tier).  It is perhaps the best beer I\\'ve ever had, at a minimum in the top 10 discussion, however a case could be made for D6, MBP, DBH b1...all in the same ballpark.Is it overhyped? Who knows. This is the rarest beer I\\'ve ever tried, and I doubt I\\'ll try anything like this again. Once in a lifetime experience.2016 bottle shared with 2 others - 5 oz pour<br>\\\\n<br>\\\\nL- Jet black with quick fading mocha brown head.  So thick it stains the glass brown<br>\\\\nS- Wow... as soon as you open it, the entire room smells of maple, just tons of maple syrup and vanilla<br>\\\\nT- Nicely balance roasty malts, barrel and the sweetness from the maple comes in at the end...just perfectly put together<br>\\\\nF- THICK, best mouthfeel of any stout I have had<br>\\\\nO- Lives up to the hype.  Pretty much the perfect stout.  Only surprise that maple was not as strong on the taste as the nose, but I think that kept if from being too sweet2016 vintage. 6 oz pour into the TG KBBS glass.  Smells like a pancake breakfast complete with a neat bourbon. This beer melts in your mouth! Fudge fudge fudge with tons of maple that fades to barrel.  Sticks around in your mouth long after you swallow.  Lives up to the hype!Great beer, still can\\'t believe the secondary market on this one.<br>\\\\n<br>\\\\nPoured nice dark and thick.  <br>\\\\n<br>\\\\nSmell was a maple bomb, can still recall the nice maple smell coming from it<br>\\\\n<br>\\\\nTaste was amazing as well, very maple forward, barrel comes through at end.<br>\\\\n<br>\\\\nGreat beer hard to say if its number one for me though.It\\'s really hard to rate a beer like this.  For what it goes for unless it gave me an orgasm while drinking I don\\'t think it would ever be worth it unless I got it close to face value.  That being said I will do my best reviewing it.  Had a 2.5 oz. pour of a 2106 bottle at a share.  Had side by side with some great stous including SR-71, FVM, Assassin, MBP.  This is a really phenomenal maple bomb of a beer with some crazy complexity.  Maple dominated the nose and made it a little one dimensional yet it smelled great. Thought the coffee and barrel came through in the flavor. Another great maple beer I thought that I like the taste better as it had more richness to me was 2014 Beyond Good and Evil.  The mouthfeel is out of this world though.  It\\'s a top notch beer and I would love a chance to have the 14 as 2 guys at the share said that was the very best beer they\\'ve ever had.  On this day SR-71 stood as king in my eyes.  Is it worth the price of admission?  No, no beer is worse this much, but I understand why people are willing to pay this much and I do understand the ticker mentality as that is what drove me to try this beer.I am going to need to revisit all my prior ratings as this one literally does take the cake! With so much hype yet it completely lives up to it. Shared by a great beer friend, 2016 vintage into smaller taster. Nose was simply incredible, super chocolaty, slight maple sweetness and subtle barrel oak and char notes.  Thick and viscous pour and close to pitch black. Tastes likes bittersweet bakers chocolate liquefied and infused with rich sweet maple syrup. The maple is more pronounced on the tast and the barrel notes follow. Honestly could have just smelled the beer all night, simply intoxicating. Glad I got the pleasure and treat to try this from the most generous beer buddy.Note: This review is based on the \\'13 vintage.<br>\\\\n<br>\\\\nL: Dark motor oil that clings to the glass.<br>\\\\nS: Tons of maple up front with a tiny bit of coffee.<br>\\\\nT: Balanced and maple forward. <br>\\\\nF: Nice and thick. Coats your mouth and lingers. Just like Assassin, the mouth feel is perfect!<br>\\\\nO: I\\'m glad I was first able to try this beer shortly after it was released before it became impossible to acquire. It\\'s excellent but nowhere near the amount of money or beer traded to acquire one.Batch 3.<br>\\\\n<br>\\\\nDue to a friend-of-a-friend\\'s generosity, got to try a tiny pour of this for free at a share. <br>\\\\n<br>\\\\nThe smell was room-filling mapley coffee. Pardon my double negative, but I can\\'t say this doesn\\'t smell pretty much like a bunch of artificial maple flavor had been dumped into a stout. We know that \"real\" maple syrup doesnt really smell like this....not to say it smells bad. Just smells like a maple candle or something. After the maple blast, huge roasty coffee. A bit ashy dark to me, and really intense. Likely the most fragrant stout I\\'ve ever encountered.<br>\\\\n<br>\\\\nThe flavor and mouthfeel though, is more in balance. Beautiful thick, not-too-sweet, complex, and boozy. Maple and coffee shine, though would\\'ve liked less adjuncts, allowing me to pick up more of the barrel and malts. I\\'ve heard b1 and b2 were more balanced, but I\\'ve never had the pleasure.<br>\\\\n<br>\\\\nWould\\'ve loved to have tried more than a 1/2oz pour, obviously, but this beer is a fun experience for the nose and palate, even in tiny doses.Batch 3.<br>\\\\n<br>\\\\nDue to a friend-of-a-friend\\'s generosity, got to try a tiny pour of this for free at a share. <br>\\\\n<br>\\\\nThe smell was room-filling mapley coffee. Pardon my double negative, but I can\\'t say this doesn\\'t smell pretty much like a bunch of artificial maple flavor had been dumped into a stout. We know that \"real\" maple syrup doesnt really smell like this....not to say it smells bad. Just smells like a maple candle or something. After the maple blast, huge roasty coffee. A bit ashy dark to me, and really intense. Likely the most fragrant stout I\\'ve ever encountered.<br>\\\\n<br>\\\\nThe flavor and mouthfeel though, is more in balance. Beautiful thick, not-too-sweet, complex, and boozy. Maple and coffee shine, though would\\'ve liked less adjuncts, allowing me to pick up more of the barrel and malts. I\\'ve heard b1 and b2 were more balanced, but I\\'ve never had the pleasure.<br>\\\\n<br>\\\\nWould\\'ve loved to have tried more than a 1/2oz pour, obviously, but this beer is a fun experience for the nose and palate, even in tiny doses.L: It pours like you might think. Black, viscous(like really, used cold engine oil thick) and next to no head. It coats like none I have ever seen.<br>\\\\n<br>\\\\nS: First thing I noticed was the coffee, then the sweet maple, bourbon and a hint of chocolate. It isn\\'t as aggressive in smell as say, Double Stack, but it is certainly strong when it gets poured. <br>\\\\n<br>\\\\nT: I docked it a little bit here because everything on the nose was perfection. I felt barrel presence was lacking in taste. I wanted this to still taste bourbon like with the other adjuncts. Everything else was on point with the nose, except in different order. Maple was first and foremost. Really nicely sweet. Then came the coffee in a nice robust, but not overpowering, fashion. It was there enough to accent and mix. After that the dark chocolate mixed in and added a nice bitter richness to the whole experience. <br>\\\\n<br>\\\\nF: So...it\\'s not quite natural/real maple syrup viscous, but it is damn close. It is the thickest beer I\\'ve ever had. A wonderful coating mouth feel that lingers for days. If you\\'re sharing this, I\\'d recommend a small number of bottles before and this last. But then again, other things might give it a run for its money here. I don\\'t know. <br>\\\\n<br>\\\\nOverall, I\\'d go through the trouble of getting it again from the brewery. I don\\'t think I\\'d trade to get one though. It is fantastic. I sipped on mine for over 2 hours and I loved it going from cold to warm. The character change and adjuncts shining through was an absolute treat. I\\'ve never had anything close to it in thickness or character. My one gripe, preventing my perfect score, was the lack of barrel in taste. Other than that, perfection in a bottle.L: completely satins the glass.<br>\\\\nS: huge maple, sweet.<br>\\\\nT: sweet maple, good blend of rich and smooth coffee and barrel to balance it out. <br>\\\\nF: so sticky and thick<br>\\\\nO: amazing maple Ba stout.This beer was amazing...maple fudginess in a glass--a 2 oz sample in a sampler glass. The only knock I could consider was the price on the secondary market, but as a beer itself definitely one of the best I\\'ve had!!!2016 vintage, bottle #80.  Roughly 4 oz pour into a white wine glass.  The balance of maple and coffee on both the nose and taste is truly remarkable.  I can\\'t begin to explain or understand how a beer delivering so much flavor with this level of viscosity doesn\\'t turn into a sweet diabetes bomb.  The mouthfeel is unreal; a velvet-like texture I\\'ve never quite experienced.  <br>\\\\n<br>\\\\nI had been wanting and waiting to try KBBS for a very long time.  Considering all the talk about this beer, my expectations going in were extremely high.  This beer somehow eclipsed everything I thought it would be.  To put it in comparison, it was imbibed between 2014 Assassin and Label Us Notorious, and completely blew those two away.  Not even close.  Hope I\\'m lucky enough to have it again someday.2016 out of an Assassin Teku. <br>\\\\n<br>\\\\nLook: Dark, Thick, Oily. Thin head but had that nice espresso color to it. <br>\\\\n<br>\\\\nSmell: Rich maple the moment I cracked the the bottle. Once it was in the glass you could get a bit of the coffee/mocha flavor too it. <br>\\\\n<br>\\\\nTaste: Amazing balance of Maple, Coffee, stout. It was a complex journey of flavor. The barrel was really subtle, which I think is something that really makes this shine as a beer. The coffee wasn\\'t a major flavor but maybe a bit over-roasted.<br>\\\\n<br>\\\\nFeel: Rich, Syrupy goodness. <br>\\\\n<br>\\\\nOverall: Truly a delightful beer that I feel lucky to drink. I can see why it is so hyped and the skill that went into brewing it.I am not one to get on hype trains about beers. BUUUUTT. This beer lives up to its hype. Thick, dark, molasses type consisitency pour with little head. Smells of coffee and maple syrup. Tastes like a coffee brownie. And about as thick as one. INCREDIBLE BEER!From the breweries I unwaxed and unlabeled bottle.My girlfriend who won the TG lottery and I shared this bottle tonight for my 34th birthday. When we cracked the bottle the smell of maple syrup was overwhelming. I was worried this could be too sweet. After my first sip all fears were gone. There is nothing I can say that hasn\\'t been said already in all the other reviews...this beer lived up to the hype. From flying across the country to Minneapolis, driving three hours each way to Decorah in mid-January to meeting some awesome people at the TG event to finally cracking KBBS, this is what the hobby of craft beer is all about!Review from Pre Superbowl Whale share-<br>\\\\n<br>\\\\n2016 Bottle(2oz pour)<br>\\\\n<br>\\\\nLook - Black, little to nohead<br>\\\\n<br>\\\\nNose - insane, instantly waves of maple and from a distance<br>\\\\n<br>\\\\nTaste - followed the nose with a divine balance of roastiness, maple notes and barrel<br>\\\\n<br>\\\\nFeel - Thick,  lingered in the mouth and on the lips for what seemed like for a while<br>\\\\n<br>\\\\nOverall - For me this met and exceeded the hype...best beer I ever had2016 batch<br>\\\\nL: Pours an insanely thick dark mocha and chocolate syrup hue with a minimal rusty head<br>\\\\nS: Upon cracking the cap an intense Grade B maple syrup aroma filled my nostrils. The maple is complemented by roasted coffee and Nestle Toll House chocolate chips<br>\\\\nT: Insane. A complete breakfast in a glass - a hearty full stack of chocolate chip pancakes drowning in Fancy grade syrup and a full pint of Grade B. Molasses, caramel, and butterscotch round out the middle. Finally, a slightly bitter black cup of java on the finish - very complex<br>\\\\nF: Thick, rich and syrupy.<br>\\\\nO: I realize that KBBS needed another review like I need a hole in my head, but man, given the effort to track this one down I felt compelled to at least write some notes - maybe I\\'ll share this review with my grand kids someday. This beer is effortlessly rich and complex. The barrel aging is subtle and lets the stout stand on its own two feet. All around this is incredible and one I feel fortune to have tried.2016 vintage drank in the #proper KBBS 2016 glassware on 2/12/2017.  Bottle #438<br>\\\\n<br>\\\\nLook - thick and oily, deep and dark brown, with minimal head.  About as little head as possible while still having some.  The lacing on this was incredible.  It just stuck all over the glass, which in the end, left a nice little sip after it all settled back down.<br>\\\\n<br>\\\\nSmell - the maple is massive!  I am absolutely shocked at how strong the maple comes through after barrel aging.  It\\'s sweet and lovely but the maple itself is quite unique of a maple flavor.  It\\'s bold and awesome.  The barrel and coffee open up with warming but nothing overpowering.  The coffee was almost hidden till it really warmed.  The bourbon barrel and fudgey chocolate are way ahead of coffee but way behind the maple.<br>\\\\n<br>\\\\nTaste - definitely follows the nose.  The coffee comes through a little more on the tongue than the nose.  It\\'s almost espresso-like as opposed to coffee.  It is very straight forward, nothing too unique, but nothing short of exquisite.<br>\\\\n<br>\\\\nFeel - thick AF.  Nothing compares to it except maybe Assassin 2014.  So much thicker than the next beer in line with thickness that I\\'ve had.  Unreal.  No booze at all.  Could chug this if I didn\\'t want to take as long as possible to drink and enjoy.<br>\\\\n<br>\\\\nOverall - certainly lives up to the hype.  Worth the long drive and chase for this vintage.  Would love to try previous year\\'s but doubtful I ever will.Had batch 1 KBBS side by side with SR71, Assassin, BVDL, DBH, BA Abraxas and a few others not worth mentioning. When sampling back and forth the KBBS stood out above all. Not only did the body dominate but the flavors did not fall off in any way after sampling other high abv stouts. The smell is very similar to taste. Strong Bourbon Maple with a great espresso finish. Best beer I\\'ve ever had.vintage 2016, First impression is the maple aroma is outstanding!  Pours a nice black color with tons of coffee, chocolate, with the perfect amount of barrel coming through.  Carbonation is spot on with a viscosity that is thicker than anything I\\'ve tried before.  Absolutly lives up to the hype! 5/52106 vintage. Shared on 2/4/17. Bottle number 388. These TG stouts are crazy - they\\'re like syrup. The scent is all maple, some coffee. Get a lot of hazelnut and coffee. Not much barrel - but it doesn\\'t need it. Great, great beer.2016 - Much stronger maple taste and smell then 2014, little barrel on either. Best beer I\\'ve ever had hands down.Was able to track down a pour at RateBeerBest. This beer is like no other. The smell is of pure maple with a mouthfeel that goes right along with that smell. The taste is rich, chocolate, coffee,  and not overpowering with the sweetness. Still in awe of getting to taste a beer I\\'ve never thought I would even be able to lay eyes on in my lifetime.Vintage 2016, bottle 391<br>\\\\n<br>\\\\nPours a thick black liquid. Smells like straight maple syrup with a hint of coffee... huge nose. Tastes exactly like it smells, huge maple with coffee on the back end. Barely got any bourbon. I don\\'t know if you can call this beer balanced but it\\'s thick and packed with flavor. It met my expectation but not my top TG stout.Appearance is black, staining the glass like soy sauce in a bottle, with an incredibly thin dark brown head, floating around like muddy soap suds. <br>\\\\n<br>\\\\nSmell: \"Maple pecan mocha ice cream\", I immediately think to myself. I don\\'t even eat pecans. Hershey\\'s liquid chocolate, molasses, breakfast at Denny\\'s, but in a good way. A slight charred note. And of course, whisky with a slight alcohol note. <br>\\\\n<br>\\\\nFlavor mostly follows the nose, though with a little less coffee than I would like and the addition of a slightly salty marmite/Vegemite umami note, which I\\'m learning comes from the whisky barrel. Still, incredible stuff. <br>\\\\n<br>\\\\nMouthfeel is the thickest I\\'ve ever experienced, though certainly not on level with actual molasses or syrup. Perhaps more along the lines of milk, though finding an exact comparison is difficult.  <br>\\\\n<br>\\\\nSave for its rather unsubtle profile, the beer is technically perfect, very complex, and easily rivals my other all time fave stout, Tree House\\'s Good Morning, though for somewhat different reasons.Vintage 2016 poured in proper glassware. Maybe not as balanced as mornin delight b1 or as complex as sr-71, but this is a top tier beer. Mapple dominates over the coffee and whiskey. Definitely worth the hype.Thick. maple. coffee.  Out of this world.This beer is incredible. It pours very thick, with a hint of a mocha-colored head. The smell is dark chocolate,maple, coffee. This is the best aroma from a beer I\\'ve ever gotten. All the aromas blend together perfectly. The taste follows the nose. It is a little bit too sweet on the finish for me, but that\\'s like saying Kate Upton\\'s hair is too long, it\\'s a personal critique of something (someone) that\\'s damn near perfect. The mouthfeel is super viscous, and super great. I was scared this beer wouldn\\'t live up to the hype, but it is most definitely, 100%, worth it. Amazing beer.2016 bottle at Toppling Goliath poured into KBBS glass.<br>\\\\n<br>\\\\nWow. Just wow. I don\\'t know if it\\'s even possible that a better beer exists. Pours like Motor oil. Smells like you opened a bottle of maple syrup with coffee crammed inside the bottle. Taste follows the nose. Pure maple that lingers for a while after you drink it. Feel is the thickest most viscous drink I\\'ve ever had. Only thing thicker is actual maple syrup. Overall, this is hands down the best beer I think I will ever have. Worth everything you can give up for it. Well done, TG!This blew me away. Probably drank this prematurely, but who cares.<br>\\\\n<br>\\\\nPitch black, dark brown head. Nose is maple syrup, vanilla, bourbon. I knew it was about to be special. <br>\\\\n<br>\\\\nTaste followed the nose with a little bit of added heat. Spectacular and worth the wait.<br>\\\\n<br>\\\\nThis beer lived up to the hype, which many don\\'t. Well done, TG, well done.Epic Lincoln, Nebraska share!<br>\\\\n<br>\\\\nBatch 3 poured into a Teku.<br>\\\\n<br>\\\\nLook - Dirty motor oil.<br>\\\\n<br>\\\\nSmell - Maple Fucking Bomb!!!!! Explosive!!!!<br>\\\\n<br>\\\\nTaste - Maple af, coffee, chocolate, bourbon (no heat), barrel, all of these big bold flavors come together and meld perfectly. So special.<br>\\\\n<br>\\\\nMouthfeel - The viscosity is some where between milk and syrup. Unreal!!<br>\\\\n<br>\\\\nOverall - Lives up to the hype.<br>\\\\n<br>\\\\nGrade A+\\'14 vintage, side by side with MD batch 2, SR-71 and yellow wax Assassin. Botlle generously shared by Chris at our Tasting to Sink all Sea Shepherds. Thanks a lot!<br>\\\\nA: Black, thick, sticks to the glass. Small, very dark head. Quite a good retention.<br>\\\\nS: Smell is awesome, maple, raisins, coffee, dark fruits, dried fruits and liquorice, all mixing very well together. Very strong and powerful nose. Quite intoxicating.<br>\\\\nT: Taste follows the nose with coffee, vanilla, tons of chocolate and dried fruits. Fudge and liquorice. Quite sweet and a bit of alcohol. Strong but not very lingering.<br>\\\\nM: Thick and viscous, sticking. Alcohol is felt. Heavy mouthfeel but still a good sipper.<br>\\\\nO: Very good stout, with an awesome smell, very good mix of flavors.2014 Vintage, poured from the bottle into a taster. As close to a perfect beer as I\\'ve come across - great combination of maple, coffee and barrel that lingers for seemingly forever.If there\\'s any beer that deserves the rating of a 5, it\\'s this one. Generously shared by Clark at the Chainsmoker release on 9/16, 2014 Gold Wax version. <br>\\\\n<br>\\\\nDecadent chocolate, with a strong maple mouthfeel and coffee flavor with the perfect hint of bourbon. Every part of it comes together perfectly to make a truly amazing beer.Pours black, no head at all. Sticky lacing is present. Overall, looks good. <br>\\\\nSmell: Big coffee notes, sweet maple, vanilla, fudge<br>\\\\nTaste follows the same, but it is even bolder<br>\\\\nMouthfeel: Oily and sticky all at once but not necessarily creamy. IF  there is a flaw in this beer, it is here. KBS, BCBS pre ABI days, and some of the other heavy hitters are simply more pleasing to the mouth to actually drink. <br>\\\\nOverall, this is a very good beer. I would even lean to say a great beer, but my personal preference, the syrupy style of RIS is just not what I am looking for.Wow, seriously the perfect beer. I had this 2013 bottle about 6 months ago thanks to a good friend of mine, cheers! The mouthfeel, the viscosity, the coffee smell and taste, seriously, if there is a better beer out there I would love to try it side by side with this one. My only fault with this beer is that it only comes in 12 oz. and is nearly impossible to obtain.I had on 23rd of July \\'16 the KBBS \\'13 and \\'14 side by side and I have to say that there was a significant difference. The \\'13 was much better and the \\'14 still so boozy. The \\'13 lived up to the hype and was simply fantastic. A true whale if you love your stouts.Lives up to the hype.  It has pretty amazing flavors and very well put together.  TG Barrel aging is one of the best out there.  Couldn\\'t hate on this even if I wanted to.Overall this is an incredible beer. It pours like motor oil, like every other TG stout. It smells like maple syrup, bourbon, chocolate and vanilla. Tastes exactly how it smells and coats your mouth as your drink it. So lucky to have tried this.I\\'ve had the 2014 twice, and it\\'s hands down my favorite BA stout. The nose, body, and layers of complexity are absolutely extraordinary....maple, coffee, endless barrel....a work of art.(2014) Super balanced.Pours out black as night. Coffee, lots of maple syrup, bitter dark chocolate, roasted malt and sweetness. Getting some boozy heat and bitterness on the back end. Coats the mouth. No doubt this is world class, but I feel like I\\'ve had this before.Bottle shared in London - big thanks to Jack. Pours thick black with a creamy brown head. The aroma is quite strong, with lots of charred wood up front, then secondary notes of dark chocolate and maple syrup. Big sweet flavor, oily, with bittersweet chocolate, baking cocoa, torched wood, earth, more maple syrup, figs, some coffee grounds. Full bodied, chewy, with moderate carbonation. Warm finish with loads of sticky chocolate sauce, well roasted malts, vanilla, char, maple, espresso, raisins, figs. Delicious. Robust yet still exceedingly drinkable. Exceptional.Pours jet black, leaves a thick coating on the glass. Smell is of chocolate, coffee, and a mild, sweet bourbon. Taste is fantastic. Very sweet and thick. Main body is chocolate and coffee with a bourbon finish that blends perfectly with the beer. Lots of toasted marshmallow on the back end. Feel is very viscous. It coats the mouth the way it coats the glass. Overall my first 5/5.Kbbs \\'14<br>\\\\n<br>\\\\nPours a viscous, motor oil black color, with a small dark brown head, soon collapsing to a tiny ring of lacing with some spider web in the middle of the glass. Leaves back a mix of tiny tubbles and an oily texture after swirling.<br>\\\\n<br>\\\\nAlthough I opened this after more than a year of its release, the coffee is as dominant as it has been in fresh Mornin\\' Delight. In this though, the Bourbon adds to the complexity of the coffee, creating an unforseen richness of aromas on the nose, while maple syrup appears to be a bit muted. There is a luscious bakers chocolate quality in this, tying the oaken barrel and flowery, cold pressed coffee beautifully together, creating a spicy coffee bean decadence, amped up by a mix of molasses and syrup. Coffee itself has an earthen note to it, perfectly enhanced by the barrel, while vanilla blends into scorched malts, producing an intense, wood accompanied, spicy praline impression.<br>\\\\n<br>\\\\nI cannot belive the mouthfeel on this is real. This is unbelievable smooth. Rich and creamy, while featuring one of the most intense tasting beers I\\'ve ever had. Its silkness remains throughout, soothing the warmer parts of the beer with whipped cream and just an unbelievable softness.<br>\\\\n<br>\\\\nTastes of fudge, earth and brownie batter right from the beginning, together with a sweet and bitter cold pressed coffee appearance, adding foremost a roasty quality to the taste. While the flavors evolve rapidly on the palate, its silk creaminess calmes the upcoming flavor onslaught, leaving everything enjoyable and detectable. Milk chocolate and cocoa nibs set on top of the outstanding creaminess, finding their counterpart in roasty malts and a genuine coffee bitterness, blending into earth. Has a hot peak, together with a flowery barrel dryness, while licorice and a rich chocolate coating, calm the well accentuated, spicy heat. Finishes surprisingly clean and soft, right after the short, burning glimpse, whipped cream works its magic, ensuring the beers world class mouthfeel, while complimenting its chocolate richness. Coates the tongue during the aftertaste, together with gently spiced vanilla and coconut bark, packing also a lingering dryness.<br>\\\\n<br>\\\\nThis beer is beautiful throughout, it is  indeed perfect. What I loved most about Mornin\\' Delight was its outstanding mouthfeel, but this one puts it to shame, by revealing a chewy smoothness, I have never experienced before in a beer. Its taste features a certain ambivalence, on the one hand it drinks fairly easy, due to its unreal silkness, while on the other hand it packs an unbelievable flavor range with a perfectly nuanced intensity to it.  Everything seems to be in perfect balance, while maple syrup gets partially replaced by the far more complex Bourbon barrel in comparison to the MD. I understand this beer is highly sought after, this time it is most certainly well deserved.Black and thick. Tan head. Nose is perfect with huge maple syrup and coffee. Bourbon and vanilla. Best breakfast ever. <br>\\\\n<br>\\\\nTaste: maple vanilla bourbon and oak. Everything I want in a beer. Not overly roasted. Just perfect.<br>\\\\n<br>\\\\nFull bodied. Good carbonation. Ends with maple syrup.<br>\\\\n<br>\\\\nAmazing. That\\'s all. Cannot believe it lives up to the hype.Backlog:<br>\\\\n<br>\\\\nLook: Poured incredibly heavy, and had a certain weight to it as it filled my tasting snifter. Minimal head, jet black. <br>\\\\nSmell: Like nothing I had ever smelt before: intense roasted coffee with just a hint of pepper, dark chocolate, and nuances of maple. Oh yeah, and BOURBON. Really complex.<br>\\\\nTaste: Tons of coffee on the tongue, with (what I consider) a perfect carb that just tickles the tongue. Lingering sweetness after the drink, then the amazing bourbon aftertaste that leaves you wanting more. <br>\\\\nFeel: Incredibly coating, almost oily. The taste lingered and developed for about 15 seconds after a sip. Once again, a fantastic carb on this one. <br>\\\\nOverall: Easily one of the best beers I\\'ve ever had the pleasure of trying. Would I go out of my way to get it again? Absolutely. Would I give up what it takes to get another one? Probably not. Awesome experience either way.Split a bottle with 3 buddies at the MD release 8/29. This beer is world class for the style and 2nd to none. Perfect amounts of coffee, maple, and bourbon make this beer a standout.This brew has been on my bucket list for  a while.  Thanks to Clark and the gang for busting it out at EBS when they were in town! <br>\\\\n<br>\\\\nA: Dark and chocolaty.  Nice head to it, even for a taster<br>\\\\nS: Has notes of maple syrup, coffee and chocolate<br>\\\\nT: AMAZING! The syrup really comes through.  There is an oakyness there as well.  Simply blown away!<br>\\\\nM: Full mouthfeel and very well balanced.  <br>\\\\nO: Best beer of this style I have ever had!This beer was nothing short of spectacular. A deep, rich black color with fantastic lacing. The nose was unctuous. There was big wafts of maple syrup, fudge, vanilla and a perfect roast bitterness from subtle hops and perhaps the char of the barrel. The mouthfeel matched every part of the nose on this beer. It was viscous and chewy, but the marriage of all of those huge flavors kept it from being a mess, which I can only imagine how hard that had to be to brew. Huge vanilla, pancake syrup, and a roasted twinge of coffee bitterness. What a remarkable beer. I shared this with three friends at TG. Bottle courtesy of TG. What a great crew.KBBS Vintage 2014 (x2)<br>\\\\n<br>\\\\nSimply amazing!  Poured from a 12 oz Vintage 2014 bottle into a small tasting glass (Thanks to the generosity of Mike &amp; Clark for the first sample and Brandon for the second!)  The smell was out of this world; coffee, maple, vanilla, roasted malt, slight bourbon and oak.  Appeared very dark almost black with a dark tan head, very thick.  The taste followed the nose and was unlike anything I\\'ve ever tried before.  I was completely blown away by this stout, it surpassed the hype in my opinion.  I found myself waiting about 2 minutes between drinks, leaving enough time for the taste to linger and to again smell the stout.  Taste amplified over the first 30 seconds and the maple became stronger.  Overall extremely impressed with this release from Toppling Goliath!  I just wish it were more readily available as it is almost impossible to find.  5/5This is a good coffee stout, but it is blown way out of proportion due to its insanely limited availability and the fact that that availability makes it impossible to get a bottle without emptying your cellar.     The beer looks great- black as night with a beautiful head.   Smell is coffee and bourbon with a sugary sweetness behind it.   The sweetness is present in the taste as well, creating a somewhat uncomfortable mouth feel.    The coffee is outstanding, but the sweetness kills it for me.    I\\'d take BCBCS over this every day of the week.Pure Heaven. SOOO DAMN TASTY. BEST STOUT I HAVE EVER HAD. Poured from 12 oz into a snifter dark black with virtually no head. What little head there is disappears into nothing very quickly. S- deep rich notes of roast, huge boozy bourbon followed by rich coffee. There is a subtle maple scent that follows the coffee in the back. T-  delicious flavor with the bourbon and the sweet vanilla, oak barrel. Lastly, after the swallow there\\'s a strong maple presence that sits in your mouth for a long time and it develops and lasts for a long time and you don\\'t want it to go away. Strong chocolate and vanilla notes also seep in during the mix. M- thick, creamy, velvety. The way a stout should feel. No carbonation. Completely coats your mouth and throat all the way down. O- Best stout i\\'ve every had. The flavors blend perfectly and each flavor is detectable. It\\'s amazingly delicious.Pours like all TG stouts which nearly equates to motor oil.  Of course the mouth feel will follow the pour which allows you to chew on the deliciousness that ensues.   Scent is roasted coffee with chocolate and maple.  Bit of booze in there as well.  Flavor is something I\\'ve yet to find any other beer match between the coffee, maple, chocolate, molasses and balanced mouthfeel that lets you mull this beer over a bit.Black with tan head. Smells like overly sweet maple syrup and cloying molasses. Tastes even more sweet than it smells. Pure Aunt Jemima. Cloying. Hard to drink. Too thick. Don\\'t see the hype. Sucks.Disclaimer: I didnt want to love this beer, knowing how tough (impossible) it is to obtain.<br>\\\\n<br>\\\\nPours a dark, thick syrupy pour.  Smells unlike any stout I\\'ve had.  Definitely sweet maple, sweet barrel notes and roasted malt.  Smells amazing.<br>\\\\n<br>\\\\nThis is where Kentucky Brunch Brand Stout separates itself from others...taste and mouthfeel.  The taste is pure perfection.  Sweet, but not overly so.  Perfect blend of maple, barrel, coffee and roast.  Thick mouthfeel that clings to your entire mouth, making you want another sip.  <br>\\\\n<br>\\\\nI wish this would be more readily available.Uber creamy, silky, and rich.... deep dark chocolate and raosty coffee with dark-maple flavors that linger a full minute or more.... you can literally taste this beer for awhile after your last sip.... decadent!!This was such an incredible beer. I truly never thought I would try it but yet again, a friend came through. So much maple and coffee on the nose. The beer itself is thick and palate coating. Perfect amount of sweetness from the maple, mixed with a complimentary but not overpowering touch of coffee. Truly world class. Gotta say...trades through the roof for a reason but it\\'s a tiny bottle...hard pressed to ever catch me trading my cellar though.Shared at DLD15. Silver wax. Served in a snifter.<br>\\\\n<br>\\\\nAppears dark brown bodied, one finger bold brown head, good retention, no lacing. It looks just like Mornin\\' Delight does. Smells of sticky maple syrup, a fair bit of coffee, with a bit of oxidation, milk chocolate, a bit of bourbon. It doesn\\'t smell a whole lot different than Mornin\\' Delight, but that\\'s not a bad thing. However, on the palate, the bourbon comes through a bit more; casting an oaky presence in the background, very mild bourbon flavour/heat. The maple syrup still dominates as does the coffee, which I\\'ll never complain about. Some milk chocolate and roasted malt backs it up. As with the base beer, it\\'s a very two-note beer that the bourbon doesn\\'t necessarily add much to. Mouthfeel is excellent, full bodied, sticky yet smooth, easy to drink. Overall this is a very good beer; it\\'s not necessarily worth what it takes to get; economics aside it is an excellent stout that nicely balances two extreme flavours even if it\\'s not particularly complex. No other brewer has been able to make a beer like this, with the exception of Tree House, so there has to be some points awarded for that.<br>\\\\n<br>\\\\nRe-review: 2017 release, silver wax, bottle 849. Served in a KBBS glass, #properglassware. Thanks Dan. Pours a dark black body, one finger mocha head, good retention, not much lacing. Smell is whiskey, maple syrup and espresso, milk chocolate, oak, roast. The whiskey is pretty nice in this beer, actually, with a rich oak and vanillin contribution. Slight heat, which is also noticeable on the palate; which also introduces plenty of maple, coffee and chocolate in the mouth. A touch of vanillin, oak, and smoke. Mouthfeel is full bodied, slightly syrupy and sticky, good carbonation, nice finish. I still propose that Morning Wood from Funky Buddha is almost just as good for 5% of the asking price it takes to get a bottle of this, but hey, you do what you gotta do.gold wax<br>\\\\n<br>\\\\nprobably the most viscous beer I\\'ve had to date. Mouthfeel is second to none. TG can make stoutsKBBS \\'14 (gold wax/label).  Big thanks to @newbeeraday for sharing this bad boy!<br>\\\\n<br>\\\\nA:  Thick black pour reluctantly leaves the bottle and delivers a quickly receding mocha head.  After a few moments, only wispy small bubbles remain, clinging the rim.  Very oily legs effortlessly paint the glass.<br>\\\\n<br>\\\\nS:  Coffee, roasted malt, sweet maple.  Burnt sugar.  Some type of spice--maybe cumin?  Tobacco, rye whiskey. <br>\\\\n<br>\\\\nT:  Sweet maple up front, roasty coffee in the middle and a lingering sweetened French vanilla coffee tail with a rye/bourbon boozy burn.  Ms. Butterwoth\\'s pillow after the Kentucky derby.  Surprised at the nice retention of bourbon after many months since the release.  [side note: tried this with VBDL \\'14 and by contrast KBBS tasted bitter and darker].<br>\\\\n<br>\\\\nM:  Fluffy pillow of velvet.  Thick, rich, nicely carbed.  Burn down the throat. Pretty much perfect for the style.<br>\\\\n<br>\\\\nO:  Well, it\\'s a great beer.  No doubt about that.Maple in the nose, maple and coffee on the tongue and maple in the backend.  Enjoyable and easy to drink. Not too hot, but slight bit of alcohol as it warmed.Stunning.  No 12oz beer is worth what this costs to obtain but this is as close as it gets.  Nose is superb.  Smells of pure Maple.  The empty bottle still smelled days later.  Mouth feel was spot on as with all TG stouts.  Taste - it\\'s just delicious.  Other beers are more complex (CBS for example) but this is just delicious.  Booze is well masked.  Easily in my top 4 beers.Everything about KBBS was perfect. The mouthfeel is why this beer is a 5. It\\'s so viscous and chewy. It\\'s oily on the palate, it just slide around. The flavor is all coffee and maple. I wouldn\\'t change a thing about this beer.Pours a thick oily black with mild brown head. Super viscous with dark brown collar of head. The nose is heavy on coffee with notes of vanilla and maple. The coffee brings on a smokey character with heavy barrel char. The maple opens up more as it warms and melds beautifully with the coffee and cocoa. Super rich and decadent. Mouthfeel is perfect, silky and smooth. Overall, this beer is fantastic. Is it worth what it takes to get it? Probably not. Is it delicious? Hell yes. Glad to have gotten to try this!Very fortunate to have a pour at a bottle share. This one lives up the considerable hype. Nice and viscous with wonderful coffee flavors balanced by sweetness from the maple syrup. Would love to try this one again, but that is probably a long shot.Look- Sweet Dark nectar that is begging to be placed into your mouth.<br>\\\\n<br>\\\\nSmell- Exactly what Jesus\\'s breakfast smells like every morning.<br>\\\\n<br>\\\\nTaste- I reached my tongue to the bottom of the bottle on this one. <br>\\\\n<br>\\\\nFeel- Pure bliss on your tongue. When it hits your stomach you are on cloud 69.<br>\\\\n<br>\\\\nOverall- I absolutely LOVE this beer. But what people want and give up for it is RETARDED! No 12oz/22oz/750mL beer should ever be worth so much.Reviewed both vintages, both shortly after their respective taproom release. All I can say is this is the BEST beer I\\'ve ever had. What a treat.What can I say? Bar none the best beer I\\'ve ever had and absolutely worth the hype. 2014 gold wax poured into an open mouth wine glass. <br>\\\\n<br>\\\\nSmell- holy molasses batman. <br>\\\\n<br>\\\\nTaste- starts off with coffee dominance and some chocolate and then the molasses hits you, truly what makes this beer worth the chase<br>\\\\n<br>\\\\nMouthfeel- not sure how toppling Goliath does it, but both this and assassin are by far the best mouthfeel in a beer I\\'ve had. Coats your mouth like a smoothie, making this beer truly elite. <br>\\\\n<br>\\\\nOverall- perfect. For sure worth a 5/5 rating.Wow is all I have to say. Whatever it takes to get this beer do it, and don\\'t think about it again. Opened a gold wax in the company of a few good men, basically what we call a normal Tuesday, whale slaying, gold wax from a Toppling Goliath snifter. The beer gave off the aromas of sweet brownies dipped in coffee, if that\\'s a thing. Just understand that it was amazing, even before it touched my lips. As the beer traveled out of the glass into my mouth I began to levitate into the air, and fireworks were going off around me. Suddenly I realized I was actually hovering over my own self, watching myself drink this wonderful concoction. I recently had fresh CBS on tap, and thought that might be the pinnacle for my beer drinking of 2015, I was very wrong, that beer doesn\\'t belong in the same sentence with KBBS. This is about as close to perfection in a beer that I believe is possible, especially for anyone who loves stouts. This is a must drink, must seek out beer, if only it was in a larger format.So ok, on the real, I gave up a ton for a couple of these bottles. And leading up to having it w some legendary DFW BA\\'s I thought I wouldn\\'t like it. I mean c\\'mon man, there\\'s no way it could live up to the hype.man I\\'ve never been so beechwood aged wrong in my life.<br>\\\\n<br>\\\\nMy boy Adam was being swooped away by a double unicorn led chariot. What do I mean? It was amazing. Truly a trancendent stout. It was flat out the greatest stout ever made in America. And wel I haven\\'t tried everyone, but I\\'ve tried everyone enough from the list. <br>\\\\n<br>\\\\nThe smell, taste, aftertaste, feel, and dat maple dho, just perfection incarnated. Wasn\\'t hot for fairly fresh either, can\\'t wait to try the next couple little bit down the line.Well done!  Thanks TG for this great beer.  Loved every drop.  Had a 2013.  Wow the Maple was in your face!!  After having a few more KBBS\\'S this year it has changed my opinion.  100 all day!!Glad to have got the chance to try this. World-class? Yes. Was it better than Proprietor\\'s, DBH, Masterpiece, Chez, various De Garde BUs, that we had at the same tasting? ... no.Ive had the 2014 before, but I was lucky enough to be able to sit on the TG patio with Clark  and Mike BOTH and sample the 2013 &amp; 2014 back to back!  Both are out of this world ridiculous with tons of barrel but the 2013 was smoother.  2014 had more coffee left in it.Poured from a 12 ounce bottle into a snifter. This is the 2014 gold wax version.<br>\\\\n<br>\\\\nAppearance: Pours black with a finger of coffee/tan head that slowly fades to nothing. (4.5)<br>\\\\n<br>\\\\nSmell: Burnt coffee, maple syrup, toffee, vanilla, dark chocolate, a hint of roasted malts. (5)<br>\\\\n<br>\\\\nTaste: Toffee, toasted malts, coffee, maple syrup and pancakes, vanilla, rich fudgy milk chocolate. (5)<br>\\\\n<br>\\\\nMouth-feel: Full bodied with a low to medium carbonation. Thick and creamy. (5)<br>\\\\n<br>\\\\nOverall: This is simply a fantastic stout. The coffee, maple, vanilla and chocolate flavors meld together wonderfully for a tremendous BA stout - the best I\\'ve had. (5)rb<br>\\\\n<br>\\\\n12oz gold wax provided by Syndicate in a homerun tasting... Darrel is good peeps and should be given the utmost trader elbow room IMO.<br>\\\\n<br>\\\\nPours impossibly thick.. dark brown/black viscous brew.. the the head is dark brown and dies back quick but the sugars hold on leaving nice lacing.<br>\\\\n<br>\\\\nThick nose.. sweet and never over done... tons of character.. maple with big coffee and dark toast.<br>\\\\n<br>\\\\nFlavor is again just amazingly full.. from front to back the dark malt moves silky into the bourbon and dark cherry... soooo thick and full.<br>\\\\n<br>\\\\nVery tasty, but not worth the hype... Not even close.<br>\\\\n<br>\\\\nDarrel deserves a nice slow.. golf clap for acquiring this one.. clap clap clap.<br>\\\\n<br>\\\\nThanks my friend.<br>\\\\n<br>\\\\n4.25/4.25/4./4.5/4.2512oz bottle, 2014 date with gold wax, poured into a Toppling Goliath teku. Enjoyed on 12.13.14, shared with my dad, review is from Tasting Journal.<br>\\\\n<br>\\\\nThe beer pours a jet black color, motor oil consistency, very thick and viscous out of the bottle with a lovely finger or so of mocha colored head, thick, taut and firm that has superb retention yielding a few spots of lace but with great dark staining legs. The aroma is fantastic, loads of smooth chocolate, coffee is assertive, but at the same time mild, lightly roasted with a nice fruit character that helps accentuate the stone fruits that come out in the nose, charred oak and whiskey with a bit of toffee sweetness linger well and just a splat of maple that helps curb any heat from the barrel and the bitterness from the coffee. The barrel character is what leaps out to me on the tongue, very smooth, nice mix of charred oak, lightly chewy and soft bourbon, a bit of toffee, a bit of molasses, even a touch of spice while smooth and decadent chocolate, lightly bittersweet, rolls over and brings forward stone fruits with lightly roasted and fruity coffee. The balance is supreme and the finish has just a breath of warmth to it from the barrel. The mouthfeel is perfection, thick, rich, creamy, viscous, silky, smooth, coating, any adjective you like for a stout, this has it, carbonation is perfect, enough life while being totally forgotten yet it also doesn\\'t feel too sticky or clumpy, and the finish is incredibly fluid. <br>\\\\n<br>\\\\nVerdict: A lot of hubbub and noise about this beer and it\\'s all deserved. The balance and complexity is tremendous, everything in true harmony, no one characteristic is truly defining and each aspect of the beer is artfully mastered.Poured from 12 oz into a bourbon county snifter<br>\\\\n<br>\\\\nA- pitch black with virtually no head. What little head there is disappears into nothing very quickly. <br>\\\\n<br>\\\\nS- deep rich notes of roast, huge boozy bourbon followed by rich coffee. There is a subtle maple scent that follows the coffee in the back.<br>\\\\n<br>\\\\nT- oh my god. Heat from the bourbon sits up front and hits your palate like spartans against the persians. Then a shot of espresso covers your mouth and melds deliciouslu with the bourbon and the sweet vanilla, oak barrel. Lastly, after the swallow there\\'s a strong maple presence that sits in your mouth for a long time and it develops and lasts for a long time and you don\\'t want it to go away. Strong chocolate and vanilla notes also seep in during the mix. There is only one beer that beats this on taste. <br>\\\\n<br>\\\\nM- thick, creamy, velvety. The way a stout should feel. No carbonation. Completely coats your mouth and throat all the way down.<br>\\\\n<br>\\\\nO- one of the best stouts i\\'ve every had. The flavors blend perfectly and each flavor is detectable. It\\'s amazingly delicious. I wish i had an infinite amount of this.What can I say, just a perfect beer!! Thick, well-balanced, and just flat out delicious. It will be interesting to see how the 2016 version compares if I can get my hands on one.2014 release. Poured a thick, thick, thick stream. Little head with small pour, but carb is there. The nose is beautiful blend of coffee and maple, with slight bourbon, absolutely stunning. The taste is transcendental, follows the nose perfectly. Never anything ever come close to this in term of actually tasting the smell. This beer has the most incredible mouthfeel of any beer I\\'ve ever had, that\\'s including Lawson\\'s Maple Tripple which brewed entirely on maple syrup and Tree House Good Morning which absolutely killed it with the mouthfeel. <br>\\\\n<br>\\\\nThis is my favorite beer of all time. I was really hoping for this beer to be a bust because how difficult it is to obtain. Loving it means I have to try to get more. Damn it!2014 VintagePure heaven in a 12oz bottle.  Man I love maple beers and this is one of the best.   Tastes of barrel, maple syrup, chocolate, fudge, molasses, and a coffee finish.  And the aroma matches perfect.  This is a the best beer in the world.  It is best in every category.  If there was a 5+ rating this would be a 10.Poor coffee stout with sweet maple and subpar whiskey. Sad. I didn\\'t cough up an arm or leg for the bottle either. Maybe if I had lost a limb my rating would be higher. Meh.I liked it, but just dump 6 oz of maple syrup into a halfway decent ba stout and you\\'ll get the same beer. And probably diabetes.Many thanks to Patrick for sharing this at his birthday tasting!  <br>\\\\n<br>\\\\nA: like black coffee, very slight head, leaves minimal legs on the side of the glass<br>\\\\n<br>\\\\nS: maple syrup, maple syrup, and more maple syrup; lots of bourbon barrel, slight bourbon sting, slight coffee and chocolate...did I mention maple syrup?<br>\\\\n<br>\\\\nT: maple syrup, coffee, chocolate, not as much bourbon taste but slightly hot bourbon sting; tastes like a candied maple chocolate candy dipped in a mocha; lots of coffee aftertaste that lingers on the tongue along with a slight bourbon sting; amazing<br>\\\\n<br>\\\\nM: sweet without being cloying; well carbed<br>\\\\n<br>\\\\nO: if it were a perfect world, everyone would have multiples of this and drink one now and age one.  On one hand, all the flavors are there and well balanced.  However, six months would smooth out that slight hotness and temper the maple syrup.  Small nits, one of the best beers I have had.Not as thick as I thought it would be, but this 2014 gold wax bottle has a great amount of maple syrup. Great balance all around! Glad I got to try this one, been waiting for awhile :)Bottle opened on 10/12/2014 graciously by @Hey5hitgoose.  2014 Vintage<br>\\\\n<br>\\\\nPours absolutely pitch black with a 1/4\" dark chocolate colored head that dissipates relatively quickly.  It was hard to pay attention to the head when the beer itself is so amazingly oily and viscous looking.<br>\\\\n<br>\\\\nThe nose is dark roasted coffee and sweet maple syrup, and then of course the bourbon.  Each smell is distinct and seems absolutely perfect, with none over powering each other but working together in hamony.<br>\\\\n<br>\\\\nMaple, Chocolate, coffee, vanilla are all present unify perfectly.  The amount of maple in each sip is incredible, and the coffee adds a nice touch.  The bourbon is absolutely perfect, not incredibly overpowering, but strong and present.  <br>\\\\n<br>\\\\nThe oily sludge coats the glass and the mouth, but is not cloying, rather makes you just want to continue sipping as the flavors start to fade away.  <br>\\\\n<br>\\\\nOverall I guess I wish this beer wasn\\'t so incredible considering the insane amount of effort it  takes to obtain one (unless of course you live in Decorah).  Alas, it was truly one of those beers that I am glad to say that I have had the opportunity to try and will certainly look forward to having it again, despite how long it may take for that to happen.  Certainly worth breaking out a rating of 5 due to how amazingly well crafted this beer is.  I have only had a couple of other BA stouts that are even in the same league.  I certainly hope TG can start making this in larger batches  in years to come.Bottle. Huge thanks to Hopscotch for sharing this bad mutha. Caramel and bourbon aromas. Joan Jett black pour with a brown head. Incredible mouthfeel and body. Delicious caramel, maple, dark chocolate, bourbon, dark roasted malts, and oaky notes. In my opinion the best of te three. I couldn\\\\u2019t think of a better beer for rating number 1400.2014 gold wax bottle. Poured into a snifter.<br>\\\\n<br>\\\\nA- Pours a jet black with a half inch of mocha foam that takes it\\'s time receding. Light does not pass through this beer. When swirled, this beer laces so well that it takes seconds for the beer to finish falling off the sides of the glass. Extremely impressive. After the head recedes, a small ring of foam remains around the edge of the glass.<br>\\\\n<br>\\\\nS- Caramel brownie dunked in a cup of coffee. Outstanding smell. <br>\\\\n<br>\\\\nT- strong maple sweetness up front followed by some chocolate notes and finished up with slightly bitter coffee/roast notes that just tie it all together and keeps it from becoming overly sweet. Amazing depth of flavor yet balanced enough to have you coming back for the next sip quickly. <br>\\\\n<br>\\\\nM- Rich and silky. Full body on this beer. Notch below those Zhukov thickness levels, which is perfect. Very sticky<br>\\\\n<br>\\\\nO- This is an amazing treat. I hope some day Toppling Goliath can release this in much greater amounts. The world needs to try this beer. One of the best beers I\\'ve ever had. I cannot find a weakness in this beer. I feel blessed that I had a chance to have this.review of 2014 Gold wax KBBS. First I would like to say that I have had a good 4 ounce pour of 2013 kbbs on two separate occasions and this 2014 was shared with my friend with 6oz pours each.<br>\\\\n<br>\\\\nA: 4.25/5 pours an almost solid black with quarter inch mocha head from a semi vigorous pour.  head fades to nothing within a few seconds. <br>\\\\n<br>\\\\nS: 4.5/5 maple forward with a strong coffee presence followed by slight alcohol and fudge. not nearly as sweet smelling as last year and lacking that beautiful maple syrup and chocolate bomb of last years batch. <br>\\\\n<br>\\\\nT: 4/5 at first there is nice sweet maple but then the huge coffee astringency hits you and bitter coffee dominates the palate. The barrel and maple are there but are overshadowed by the coffee. though the huge coffee profile may subside over time, It seems that the bitter astringency will never fade as its a bitterness  oily issue. <br>\\\\n<br>\\\\nM: 4/5 not nearly as creamy and silky as last years or even lesser beers like Assassin. The finish from the coffee is almost slightly dry and the maple and barrels don\\'t shine as they should. <br>\\\\n<br>\\\\nO: 4.25/5 Overall this is a good beer that unfortunately happens to not be the beer that it was in 2013. 2013 was a life changing experience and almost didn\\'t disappoint in anyways. I enjoyed drinking 2014 but was turned off by the unbalanced coffee presence and bitter astringency.Picked up a 2014 bottle in the Brewery on the day of the release. Gold wax covers the cap down to the bottom of the neck of the bottle.<br>\\\\nPoured into a snifter.<br>\\\\n<br>\\\\nA: Thick, viscous, motor oil appearance. Little to no head, what was there dissipated and just remained at the edge of the glass.<br>\\\\n<br>\\\\nS: This was hands down the best beer I\\'ve ever smelled. Bourbon, maple, coffee, Carmel, sweet smells. If there was an air freshener of this I would buy them all....every last one.<br>\\\\n<br>\\\\nTaste: Just as good as the smell. Bourbon, coffee, maple syrup, chocolate, vanilla, hint of toffee. All of the tastes I just mentioned seem to be equally dispersed in the beer no real dominate taste, a perfect mix. There was a slight warm alcohol presence when I first sipped but as it warmed it completely disappeared. <br>\\\\n<br>\\\\nM: Thick, rich, filling. Coats your mouth hole and sticks to it. Absolutely wonderful. One bottle is like a meal, but you just want to go back for seconds, thirds, and fourths.<br>\\\\n<br>\\\\nOverall: Think of KBS on steroids with the addition of maple syrup and you have KBBS. Does it meet the hype? In my mind yes. Absolutely wonderful beer that I cannot find flaws with. I was discerning during drinking and tried to find issue with it.  I take that back, there was an air bubble between the label and the bottle, I squeezed it out...flawless.Served alongside Mornin\\' Delight and Assassin. <br>\\\\n<br>\\\\nThe beer is near black with a filmy beige head. All hype and bias aside, this aroma is silly good. Oak, roast, coffee, vanilla. World class from the first sip. The definition of grace and balance. Silky smooth on the palate. Absolutely amazing.Was very happy to see the three bottle stout set arrive at my door, courtesy of cparles. Cheers! We drank Morning Delight, Assassin and KBBS, in that order. <br>\\\\n<br>\\\\nFrom a bottle into a snifter<br>\\\\nVintage: 2013<br>\\\\nSilver wax<br>\\\\nBottle X of 300<br>\\\\nWhisky barrel aged with coffee<br>\\\\n<br>\\\\nAPPEARANCE: Same as Morning Delight. Pours out black and thick, yielding a smell, medium looking, creamy, dark mocha colored head with great retention. Jet black body with no carbonation evident. Head slowly fades to a swirly wisp and bubbly ring. A faint wisp and ring remain leaving some falling dots of lacing down the glass. Thick black body and a great head, and just a touch more lacing would give it a perfect score. <br>\\\\n<br>\\\\nSMELL: Basically like Morning Delight with some whisky barrel aging. Maple, caramel, butterscotch, coffee, milk chocolate and vanilla cream, with some whisky and oak pulling it all together. Really decadent. Bold and infinitely complex, with lots of aromas all over the place. Morning Delight was already a perfect score, so too bad this one doesn\\'t go to 11. <br>\\\\n<br>\\\\nTASTE: Outstanding. Lots of maple syrup, caramel, whisky and oak up front, with more sweet butterscotch, maple and barrel flavors at the swallow. Definitely maple and coffee with a big, lingering finish of bitter coffee and dark chocolate, coconut, sweet vanilla, whisky and oak coating the palate. Very flavorful, complex and absolutely delicious. Wonderful sweet flavors with just enough bitterness and whisky barrel to provide the perfect balancing touch. Just great. <br>\\\\n<br>\\\\nPALATE: Medium body and medium levels of carbonation. A touch lighter than Morning Delight, but still full enough for the style. Very creamy smooth on the palate, goes down smooth and finishes slightly sticky. A bit of heat lingers as well. Good feel. <br>\\\\n<br>\\\\nOVERALL: Though it doesn\\'t claim to be, this could very well be barrel aged Morning Delight. Absolutely fantastic. This has everything I loved about MD and added a touch of whisky barrel aging on top of it. One of the rare, rare occasions when a beer of this magnitude surpasses its billing. This is the best barrel aged imperial stout out there at this point, and I can\\'t imagine being able to surpass this either. Would love to drink some of the second batch that is apparently waiting patiently at the brewery. Thanks again cparles. World class.Poured into a snifter glass, a dark chocolaty color. Can smell the aroma 2-3 feet away from the glass. A blend of whiskey, coffee, dark chocolate, and lots of that good ole molasses sweetness.<br>\\\\n<br>\\\\nTaste is unbelievable. I will have to say, this is probably one of my top 5 favorite beers I\\'ve tried, only falling shortly behind Morning Delight. What a pleasure to drink, with a thick creamy chocolate milk taste, with a sweet taste on the back end, and a little bit of fruit on the back end it seems. So incredibly smooth, would never guess this is 12% abv. Wish I could try this ago, but most likely we will never meet again kbbs...The beer pours out extremely dark black like motor oil.<br>\\\\n<br>\\\\nThe aroma shoots out of the bottle even a couple feet away as one pours it out. There\\'s big chocolate, roasted coffee, huge caramel and molasses sweetness, and whiskey. The aroma is very well integrated of complexities.<br>\\\\n<br>\\\\nThe flavor follows with huge chunky milk chocolate surrounded by a medium roast earthy coffee and medium minus notes of whiskey. The beer transitions onto a big dark caramel sweetness with mocha coffee, a hint of berry fruits on the finish.<br>\\\\n<br>\\\\nThe mouthfeel is thick and luscious.<br>\\\\n<br>\\\\nJust a beautifully crafted barrel aged brew. Nothing really jumps out aggressive with a harmony of whiskey, medium minus barrel notes, coffee, chocolate, and caramel sweetness.Poured into a snifter shared by Cory from Side Project. Got lucky and went back to talk to him about beer for a bit and this VB Assassin and Fuzzy were open.<br>\\\\n<br>\\\\nA - Appearance is just like MD, dark as night with minimal dark mocha foam head that recedes back into the glass. Extremely thick as it pours into the glass. Minimal lacing (small pour)<br>\\\\n<br>\\\\nS - Smell is pretty much like Mornin\\' Delight in the maple syrup, chocolate, vanilla, coffee. Then the bourbon oak vanilla smell comes through from the barrel. The barrel smell does not at all overpower the base beer.<br>\\\\n<br>\\\\nT - Taste follows the nose with huge notes of maple syrup chocolate coffee goodness. Vanilla notes with oak and bourbon are on the finish. Definitely one of my favorite tasting stouts of all time. This was after BA Abraxas and Vanilla Bean Assassin. I think this was my favorite of the 3.<br>\\\\n<br>\\\\nM - So chewy and delicious. Coats the mouth and stays there<br>\\\\n<br>\\\\nO - From a small pour I was able to tell so much. After having MD i could tell that this was the BA version of that. It is one of the best barrel aged stouts ever brewed.<br>\\\\n<br>\\\\n2014 Gold Wax KBBS poured and split amongst friends<br>\\\\n<br>\\\\nThis is pretty similar to 2013 in terms of mouthfeel and barrel character. It doesn\\'t quite have the maple finish that 2013 did but the coffee is definitely better in this years. Decadent smooth creamy mouthfeel, TG nails their mouthfeel in all of their big stouts. <br>\\\\n<br>\\\\nI have to say that this is still my favorite BA Stout that I have had, slightly ahead of DBH, BA Abraxas, BA Coffee Abraxas, PvW Black Magick, BA Lumber. This outshines them all. I wish it wasn\\'t so damn hard to get, but seek this one out in confidence.Twice I\\'ve had this beer, both times amid a sea of other world class beers, and both times none of those even came close.<br>\\\\n<br>\\\\nA: pitch black<br>\\\\nS: Coffee, Maple, Bourbon<br>\\\\nT:Everything you\\'d expect. Super rich maple and coffee coalesce together on your tongue. <br>\\\\nM; Super thick and creamy, and lasts and lasts...<br>\\\\n<br>\\\\nTheres really not much else to say, this beer is perfect in every way.Reviewed from notes from 1/1/14<br>\\\\n<br>\\\\nA- Bottle * of 300, whatever that means! Poured into my Toppling Goliath snifter, it is black as a moonless, starless night. It is thick and viscous, with a medium sized brown head that slowly recedes to a tan collar that leaves some lacing.<br>\\\\n<br>\\\\nS- The aroma is nearly identical to the base beer, but with bourbon and oak as well. Tons of burnt sugar, black strap molasses, coffee, and bitter baker\\'s chocolate. Licorice, vanilla, sweet/buttery bourbon, rich dark chocolate, and some burning alcohol. Smells incredible!<br>\\\\n<br>\\\\nT- Wham! I just got smacked in the face with awesome! The flavor delivers above and beyond the aroma and the base beer! It has all the sweetness from the base, but it is tempered and mellowed by the bourbon and oak. The chocolate, burnt sugar, molasses, coffee, and vanilla all come together in a complex melange of flavor. While flavor-wise I may slightly prefer Double Barrel Damon, this is perfect in it\\'s own way!<br>\\\\n<br>\\\\nM- The mouth feel is spot on. Thick, viscous, mouth coating, yet with ample carbonation.<br>\\\\n<br>\\\\nO- What can I say? Toppling Goliath has delivered one of, if not the best BA stouts in the world! Just incredible all around!Pour is jet black with a tight mocha head. Nose is strong coffee, clean and roasted, notes of maple and vanilla with a well balanced bourbon and wood. Taste is a little sweeter, very big with lots of roasted coffee, well integrated bourbon and vanilla with some slightly charred wood, malt berry sweetness in the finish. Roast lingers, full bodied, creamy and moderate carbonation. Well balanced, lots of coffee with a fair bit of bourbon and malt sweetness, can get a hint sweet.Silver Wax (2013) 12oz bottle<br>\\\\n<br>\\\\nPours solid thick and heavy, minimal lacing. Dark black, very little carbonation. <br>\\\\n<br>\\\\nTaste is like bourbon maple syrup. Also some dark plums and dark fruits, however, overall, taste is more bourbon and less coffee than Mornin Delight. This is less sweet and more bourbon forward than MD. Good to try but Assassin and MD are my tops.12oz bottle shared during Christmas Eve with friends into Utopias glass.<br>\\\\n<br>\\\\nPours black, mocha head, thin ring, wisps on top. Nose is rich milk chocolate, coffee, burnt sugars, some bakers chocolate. Flavor is maple syrup, chocolate brownies, light oak, smooth alcohol, caramel, and coffee. Full body, rich, light carbonation, sweet &amp; creamy finish.<br>\\\\n<br>\\\\nThis is one of those beers that came along in 2013, was super-hyped, and delivered. I easily finished half of the bottle and shared the rest and was still left wanting more. Very rich &amp; decadent but very smooth and easy to drink for such a huge beer.A - Luscious black with a lasting caramel head<br>\\\\n<br>\\\\nS - Fresh roasted peanuts, caramel corn, molasses, dark fruit<br>\\\\n<br>\\\\nT - The perfect roasted coffee, toffee, caramel, vanilla, dark fruit, hints of chocolate<br>\\\\n<br>\\\\nM - Incomparable mouthfeel. Silky, creamy, smoothness. Like whole whipping cream. Insane.<br>\\\\n<br>\\\\nO - This one lives up to the hype. Not a bourbon bomb. If you are not a huge fan of bourbon flavors this is your new favorite. As a gigantic bourbon fan, I don\\'t feel slighted, because the base beer carries this past the need for barrels. KBBS is a uniquely exquisite drinking experience.<br>\\\\n<br>\\\\nThanks to Palsie for sharing the love.A - Very dark, slight tan head. It looks nice.<br>\\\\n<br>\\\\nS - Smells like Mornin Delight, but with some bourbon.<br>\\\\n<br>\\\\nT - The taste is where this beer falls short of Mornin Delight. The coffee and maple amazingness is muted by the bourbon here. It\\'s potentially the first bourbon barrel stout I\\'ve had that\\'s better without the barrel.<br>\\\\n<br>\\\\nM - Higher booze than Mornin Delight too. That said, it\\'s still very smooth and not much booze for the abv. It\\'s just hard to live up to the incredible-ness that is Mornin Delight.<br>\\\\n<br>\\\\nO - I\\'m not sure how this has a higher rating than Mornin Delight. Mornin Delight was superior to all the people I know who have had both. It wasn\\'t terribly close to me. Mornin Delight would be over a 5 if I could give it that. This is still incredibly good, don\\'t get me wrong (I mean look at the score I\\'m giving ). But I would seek out MD over this 10 times out of 10.Reviewing the highly sought after Kentucky Brunch Brand Stout (KBBS) from my friends at the Toppling Goliath Brewery out of Decorah, Iowa. This beer is billed as a \"beer aged in whiskey barrels with coffee\" on the label.<br>\\\\n<br>\\\\nScore: 100<br>\\\\n<br>\\\\n2013 vintage bottle served in a Upland snifter and enjoyed on 09/22/13.<br>\\\\n<br>\\\\nAppearance: Slick and shiny motor oil black in color. Pours a thin layer of dark khaki head that settles to a thick ring around the glass. Excellent lacing, amazing retention. The lacing slowly cascades back in to the glass like a viscous oil. 5/5<br>\\\\n<br>\\\\nSmell: Like Morning Delight, the nose is bold and well integrated. Notes of maple/molasses syrup, bourbon, coffee and vanilla. Smells a lot like Bliss, the bourbon aged maple syrup, blended with coffee. Light notes of chocolate chip cookies. A dash of doughy cake batter too. Smells like Morning Delight plus vanilla, but with dialed down chocolate notes. As the beer warms up, the maple/molasses syrup-like aroma becomes more prominent. 5/5<br>\\\\n<br>\\\\nTaste: Sweet maple and molasses flavor upfront, then vanilla. Roasty coffee flavors and faint, but detectable, chocolate on the back half. Underlying coffee backbone really helps balance the upfront sweetness. No booziness, but there is a little alcohol warming effect on the palate as the beer warms up. The vanilla and maple/molasses syrup flavors shine through more as this beer warms up too. This is truly delectable. 5/5<br>\\\\n<br>\\\\nMouthfeel: Fully bodied, spot on carbonation. Creamy, oily mouthfeel. Shares the same umami character I got from Morning Delight (no soy sauce flavor). Balanced, though sweet leaning. Has a nice bitterness to the finish that imparts easy drinkability to cut through what would otherwise be a layering sweetness. 5/5<br>\\\\n<br>\\\\nOverall: I am not sure if this is a barrel aged version of Morning Delight, but it shares many of the same characteristics. Both this and Morning Delight are incredible, but I thought that KBBS was the superior brew of the two. The vanilla notes from the barrel aging here are lovely. This beer is, for all intents and purposes, perfect. Among the many stouts I have consumed, there are only a couple out there that I would rather have if forced to choose. With luck, Toppling Goliath will rebrew this and our paths will cross again one day. If not, I am truly glad to have had the opportunity to tick this. Even at its hefty cost, I recommend seeking out a bottle; this is probably going to be the best beer released in 2013.<br>\\\\n<br>\\\\nCost: $12 for a 12 oz bottle.Dark body, black with brown highlights. Viscous glass staining alcohol legs. Extremely short lived head.<br>\\\\n<br>\\\\nMarshmallow vanilla smells. Maple become apparent after a sip.<br>\\\\n<br>\\\\nMaple dominates. Roasty. Barrel presence and coffee are there but like I said maple. Would put this at about 13.5%abv if I had to guess.<br>\\\\n<br>\\\\nNice and thick mouthfeel. Low, perfect carbonation point.<br>\\\\n<br>\\\\nAfter having both this and Mornin\\' Delight I will say that i like them close to equally. the maple aspect of this guy is a little overbearing, CBS wishes it had that presence though. Thanks 4DAloveofSTOUT for the most hyped/valued/whatever beer I\\'ve had to this point.Served in a standing stone snifter, stored at 40 degrees since release at T.G.<br>\\\\n<br>\\\\nBlack, slightly thick, completely dark<br>\\\\n<br>\\\\nThe nose if fantastic , awesome coffee, sweet, nice barrel.<br>\\\\n<br>\\\\nThis flavor just drops your jaw, aw man, wish the bottle was bigger, so - damn - good !!<br>\\\\n<br>\\\\nMouthfeel just as you would like.<br>\\\\n<br>\\\\nIf you have had it, you know exactly what I said, super solid beer.12oz bottle poured into HF stemmed glass, split three ways. Huge, huge thanks to Josh (thebigredone) for sending this to me!<br>\\\\n<br>\\\\nA- Pours a decently viscous dark slightly brown black, fairly opaque jet black in the glass with some light purplish brown along the edges, very thin mocha brown head forms that has decent retention and fades at a moderate pace to a flat top, leaves thin lacing that fades back into the glass.<br>\\\\n<br>\\\\nS- Aromas of rich maple syrup, integrated bourbon, dark creamy chocolate, a bit of oak on the backend. Very sweet smelling, but very pleasant and retaining a nice balance. Definitely above average aroma strength.<br>\\\\n<br>\\\\nT- Dark creamy chocolate, sweet/sugary maple syrup, balanced and integrated bourbon, faint hints of oak. Finishes with a strong, rich maple syrup presence with balanced bourbon, oak, coffee, and creamy chocolate. Easily one of the best finishes I\\'ve experienced from a beer.<br>\\\\n<br>\\\\nM- Thick, viscous, creamy, very drinkable, incredibly smooth especially at a surprising 13%, only a faint presence of alcohol, fairly low carbonation but appropriate for style.<br>\\\\n<br>\\\\nO- This beer definitely blew me away and is 100% worth the hype, possibly one of my favorite beers to date. There were a ton of strong, rich tastes coming out but it still retained a very nice balance and drinkability. I wish this was made on a regular basis and wasn\\'t so rare so I could drink it all the time. I definitely recommend seeking this out especially if you like big, rich, balanced stouts.It angers me to write this. I really wanted this beer to be super overrated and to just be a product of Midwest people pumping up their instawalez. It\\'s not. This is the best beer I\\'ve ever had. Smell, taste, lacing, everything is perfect. It smells like maple syrup with a hint of bourbon. It tastes like smooth maple syrup with a hint of bourbon. I never thought something non HF would become my favorite BA stout, but it has. Nice job Toppling Goliath. Please make this again. Soon.12 oz. staff bottle split 4 ways.<br>\\\\n<br>\\\\nA: Dark thick and viscous with a puffy marshmallow head with great retention.<br>\\\\n<br>\\\\nS: Maple syrup bourbon pancakes. Hints of Vanilla, very nice.<br>\\\\n<br>\\\\nT: The bourbon is the predominant note that fades into coffee and bittersweet dark chocolate, not as much Maple as the nose would suggest. Also on the back end there was this Splenda/Aspartame-like artificial sweetness that really detracts from this beer, a characteristic I also noticed with Assassin.<br>\\\\n<br>\\\\nM: Chewy, thick, wonderful. Perfect.<br>\\\\n<br>\\\\nO: This beer is pretty good, but in all honesty it\\'s not better than CBS was fresh. Really not worth what it takes to track down, and not even close to being a \"Perfect 5\" beer.Reviewed from notes and then bottle today.<br>\\\\n<br>\\\\nA: Dark black more head than I thought.<br>\\\\n<br>\\\\nS. Bourbon, Stout, Malty/roastie notes<br>\\\\n<br>\\\\nT: Holy mother of roast pheasant. Vanilla, Cocoa, Coffee, More coffee, spices, earth, Did I mention coffee? Bourbon, roasting wood.<br>\\\\n<br>\\\\nM: thick and viscous,,, perfect<br>\\\\n<br>\\\\nOverall 99.99/100<br>\\\\n<br>\\\\nThis style is my favorite beer, I consider myself a bit of an expert in this arena and have much experience drinking BA stouts. This one knocked my socks off!A huge thanks to Mike for this one. 12oz. bottle shared with jbuddle and POTABLE83. #155/300 into Torst stemware. Reviewed from notes. <br>\\\\n<br>\\\\nPours a .25 finger dense, dark chocolate head with moderate retention. Beer is rich, thick and pitch black. Lacing is spotty and sparse with little cling. Probably the biggest, oiliest legs I\\'ve ever seen on a beer. Ever part of this screams imperial. <br>\\\\n<br>\\\\nNose is a hot fudge Sunday with a side of pancakes and bourbon maple syrup. Very aromatic. Outstanding. <br>\\\\n<br>\\\\nNotes of maple syrup, chocolate, fudge, and molasses. Very chewy with loads of pancake and waffle and the slightest hint of bourbon that serves to complement the cornucopia of breakfast flavors perfectly. Now THIS is a breakfast stout if I\\'ve ever come across one. Finishes sweet and syrupy with a sticky, molasses and chocolate aftertaste. Phenomenal! <br>\\\\n<br>\\\\nFull bodied with low carbonation. Slick and oily in the mouth and goes down smooth and viscous. Messy finish with a lingering aftertaste. Real drinkable for 13% but definitely a sipper. <br>\\\\n<br>\\\\nThis is easily one of the best and most unique imperial stouts I\\'ve ever had the opportunity to try. I\\'m not sure where Toppling Goliath came from but between this and Morning Delight, they have the market cornered on breakfast style imperial stout. Kentucky Brunch is simply amazing and I could drink this over and over and over again.12 oz. bottle poured into a snifter. No bottle number.<br>\\\\n<br>\\\\nAppearance - Inky black. Stains the glass again. Bigger and darker head than Mornin\\' Delight and Assassin. Great surface wisps.<br>\\\\n<br>\\\\nSmell - Bourbon. Maple. Vanilla. Dark chocolate. Everything you\\'d want in a stout. The bourbon does take over, though.<br>\\\\n<br>\\\\nTaste - Bourbon is sharp. Coffee comes out here. Dark chocolate. Maple comes out in the back. Sweetness lingers. Bourbon flavor lingers also.<br>\\\\n<br>\\\\nMouthfeel - Very thick. Boozy. Sweet with medium carbonation. <br>\\\\n<br>\\\\nOverall - Tough to argue which is better, but bourbon always wins.OK, time to drown this puppy. Picked up at the release (where there were numerous Minnesota beer geeks in attendance) &amp; this is the lone &amp; single bottle resting in the fridge. Now resting in my glass. Well, half in my glass, half in my wife\\'s glass. 12 oz. bottle with silver wax. <br>\\\\n<br>\\\\nThe pour is dark night, carbonation close to the non-existent side. The nose - wow. Like the best pancake house in the world, with grade A maple syrup made in house &amp; a cold press coffee place beside the kitchen. Then the waitress sets a glass of bourbon next to the syrup. Seriously. Magnificent. <br>\\\\n<br>\\\\nKentucky Brunch is one of those beers that can\\'t possibly live up to the hype, right? Wrong. More maple syrup taste than any beer I\\'ve ever come into contact with - &amp; I like small-batch, artisanal maple syrup almost as much as I like beer. And I swear I can taste the waffles. Big bourbon wallop is cut by just the right amount of coffee; not enough to tip this into an annoying coffee bomb, but enough to get a taste. Mild chocolate &amp; vanilla &amp; drying wood in the middle. The end is pure bliss. Thick, thick, thicker, but ridiculously drinkable. I\\'m thinking of stealing my wife\\'s half &amp; making a run for it. I\\'m faster than she is. She\\'d never catch me before I finished it. <br>\\\\n<br>\\\\nHoly bloody hell. I wish I\\'d have brought 36 mules to the release, because I would have drunk every single bottle in a span of about 20 days. This is a beautiful beer, &amp; I hope it turns into an annual release. No, screw that, a weekly release. This beer is...perfect. My fourth perfect score in 1500 reviews. Wow. Reaching for my wife\\'s glass...Bottled graciously shared by IPeeA. Looks like a double stout. Smell is a lot of coffee with just a little bourbon. Taste is unreal - again, lots of coffee which gives way to a mild bourbony sweetness. Not too boozy. Lives up to all the hype and then some.Bottle # 110 of 300. This bottle has been tempting me ever since it showed up on my doorstep. Thanks isn\\'t enough to maximum12 for sending me a bottle completely unexpectedly.<br>\\\\n<br>\\\\nA - Pours thick and black with about a quarter inch tan head, which dissipates fairly quickly, leaving a thin ring.<br>\\\\n<br>\\\\nS - Reading some of the reviews on here, I was expecting to get a wave of coffee as soon as I popped the cap, which I really didn\\'t get. But as it warms, the aromas really begin to shine. Maple and bourbon are dominant, while the coffee hangs out in the background. There\\'s just enough heat in the nose to let you know this one is a sipper.<br>\\\\n<br>\\\\nT - This is where it\\'s at. Honestly, this tastes like a plate of bourbon and maple syrup soaked chocolate chip pancakes followed by a sip of really good coffee. I have no other way to accurately describe it. It\\'s fantastic and unlike anything I\\'ve ever tasted before. I have no idea how they got so much maple syrup flavor into one bottle. But at the same time, it\\'s nowhere near cloying in any way. The coffee plays second fiddle to the maple, chocolate, and bourbon, but there\\'s enough there to tie it all together.<br>\\\\n<br>\\\\nM - Carbonation is spot on. This is thick and silky. It feels like velvet on the tongue.<br>\\\\n<br>\\\\nO - At 12%, I\\'m trying to take this one slow but it\\'s disappearing way too fast from my glass. I was really curious to see if this would live up to it\\'s lofty expectations. Not only did it live up to them but it surpassed them. I hate to gush but this is just really fucking good. I\\'ll be sad when my glass is empty.First and foremost a big thanks to roon for sending me this bottle via his LIF.<br>\\\\n<br>\\\\n12oz Bottle poured into a Bourbon County snifter. Poured along-side a 2012 Barrel Aged Dark Horse Plead the 5th and a 2013 KBS as part of a side-by-side tasting.<br>\\\\n<br>\\\\nAppearance: Dark, reddish, brown almost black with a small 1/4\" head bubbling up. The head recedes to a thin cap but leaves a heavy, frothy, tan ring. This beer looks viscous and leaves some very nice sticky lacing.<br>\\\\n<br>\\\\nSmell: Sweet maple front and center, I\\'ve never had this much maple in an beer I\\'ve smelled, it towers over both the bourbon and chocolate that you can sense underneath. Amazing nose on this beer.<br>\\\\n<br>\\\\nTaste: There are a lot of flavors to pick out of this one with oak, vanilla, whiskey, chocolate, and coffee standing out and having each element wrapped in a blanket of maple. As the beer warms the flavor deepens but never loses balance, all of the flavors continue to stand out. There is a sweetness to this beer (with this much maple flavor it would be impossible for it not to have sweetness) but it is never overwhelming, it never verges on becoming \"too much\". I can\\'t imagine a better tasting stout.<br>\\\\n<br>\\\\nMouthfeel: Silky smooth and although sweet it never becomes cloying.<br>\\\\n<br>\\\\nOverall: I am a fan of maple flavor in a stout; therefore, this was the best barrel aged stout I have had to date. Left me wanting nothing but more.Look- This beer pours as dark as midnight. <br>\\\\n<br>\\\\nSmell-The aroma is coffee and bourbon as well. <br>\\\\n<br>\\\\nTaste -This beer combines a perfect blend of coffee bourbon and maple syrup. <br>\\\\n<br>\\\\nFeel- KBBS completely coats the inside of your mouth and is very thick and viscous. If there is a perfect beer this is it a perfect 5.I have been to the top of the mountain and they have Kentucky brunch on tap there. Maple, bourbon, coffee and everything in a Melange and synergy that belies explanation. This is the benchmark beer for me here on. Wish I had more than one bottle on hand. It will have ato be a special occasion for me to crack it. VERY SPECIALBottle number 240 of 300, purchased at the release.<br>\\\\n<br>\\\\nNormally, I would start with the appearance, but as soon as I popped the cap, I was flooded with coffee aroma. I have never smelled coffee so intense in a beer. It pours out so dark and thick -- two more extremes I have never seen the likes of.<br>\\\\n<br>\\\\nThe smell? Coffee, toffee, chocolate, all manner of dark fruit. As it warms, maple begins to emerge, then eventually dominate. It delivers all of this and more as I drink it. It\\'s a sipper, to be sure, but it is one of the most enjoyable beers I have ever tasted.<br>\\\\n<br>\\\\nMouthfeel is great. It\\'s full and creamy, with restrained carbonation. If this beer has a flaw, I suppose it\\'s a tad sweet. But I will dream about this one for a long time.poured into a duvil \"like\" tulip glass by Toppling Goliath staff.<br>\\\\n<br>\\\\nreviewed from notes taken 6/1.<br>\\\\n<br>\\\\nAppearance: black bodied beer with dark brown head. It looks exactly like Morning delight.<br>\\\\n<br>\\\\nSmell: Smells exactly like morning delight, but has a splash sweet and mellow of bourbon. The coffee and maple syrup are more prominent in the nose and do infact overpower the bourbon.<br>\\\\n<br>\\\\nTaste: Tastes just like it smells! Its morning delight with a mellow splash of bourbon! The mellow bourbon melds perfectly big maple syrup and bold roasty coffee. Clark just nailed this beer. Before I drank this beer I was concerned that the barrel notes would cover up all the things that make morning delight my favorite Toppling Goliath beer, but its honestly the Mornin\\' Delight is still the focus of this beer and the subtle barrel notes compliment it perfectly! <br>\\\\n<br>\\\\nMouthfeel: medium bodied beer with moderate carbonation. Creamy, silky, and very smooth. This beer just coats your mouth with rich flavor. Not even a hint of booze, just like Morning Delight. Carbonation is spot on perfect. <br>\\\\n<br>\\\\nOverall: Its another Toppling Goliath masterpiece. I would say that its a tie, its really to close for me to call. I just cant decide which I like more... Morning Delight or Kentucky Brunch; honestly I feel they are equal! World class beer no question! This is a case where a non-barrel aged beer is just as good as the same beer with a barrel treatment. You dont see that happen to often in craft beer! Clark and company at Toppling Goliath are really making magic happen in Decorah, IA!This was my first beer of the day at the release. <br>\\\\n<br>\\\\nPoured into a brand new Toppling Goliath snifter. <br>\\\\n<br>\\\\nAlmost a finger width of head, very brown head with good lacing at the top of the glass. Some beer got on my hands and it was very sticky. <br>\\\\n<br>\\\\nSmell is of smooth bourbon with a hint of dark chocolate. Very sweet. The bourbon has no pepper smell.<br>\\\\n<br>\\\\nFirst taste of the day was sweet dark chocolate filling my mouth with a creamy texture and just a little coffee/espresso around the edges not hurting the deep chocolate notes at all. nSubsequent sips brought out more of the bourbon flavors.<br>\\\\n<br>\\\\nMouthfeel is smooth and rich with viscous, thick body. The first drink was similar to the feeling of drinking the first few sips of coffee with a whip cream topper. <br>\\\\n<br>\\\\nOverall I loved it for it\\'s deep savory flavors of coffee and dark chocolate with a body to hold those flavors together. The difference from Assassin to KBBS is that vanilla is the biggest flavor in Assassin and KBBS has a deep rich chocolate/coffee flavor that is distinct.'"
      ]
     },
     "execution_count": 10,
     "metadata": {},
     "output_type": "execute_result"
    }
   ],
   "source": [
    "reviews"
   ]
  },
  {
   "cell_type": "code",
   "execution_count": 1,
   "metadata": {},
   "outputs": [
    {
     "ename": "NameError",
     "evalue": "name 'nltk' is not defined",
     "output_type": "error",
     "traceback": [
      "\u001b[0;31m----------------------------------------------------------------\u001b[0m",
      "\u001b[0;31mNameError\u001b[0m                      Traceback (most recent call last)",
      "\u001b[0;32m<ipython-input-1-18bfd270baca>\u001b[0m in \u001b[0;36m<module>\u001b[0;34m()\u001b[0m\n\u001b[1;32m      1\u001b[0m \u001b[0;31m# load nltk's stopwords\u001b[0m\u001b[0;34m\u001b[0m\u001b[0;34m\u001b[0m\u001b[0m\n\u001b[0;32m----> 2\u001b[0;31m \u001b[0mstopwords\u001b[0m \u001b[0;34m=\u001b[0m \u001b[0mnltk\u001b[0m\u001b[0;34m.\u001b[0m\u001b[0mcorpus\u001b[0m\u001b[0;34m.\u001b[0m\u001b[0mstopwords\u001b[0m\u001b[0;34m.\u001b[0m\u001b[0mwords\u001b[0m\u001b[0;34m(\u001b[0m\u001b[0;34m'english'\u001b[0m\u001b[0;34m)\u001b[0m\u001b[0;34m\u001b[0m\u001b[0m\n\u001b[0m",
      "\u001b[0;31mNameError\u001b[0m: name 'nltk' is not defined"
     ]
    }
   ],
   "source": [
    "# load nltk's stopwords\n",
    "stopwords = nltk.corpus.stopwords.words('english')"
   ]
  },
  {
   "cell_type": "code",
   "execution_count": 5,
   "metadata": {
    "collapsed": true
   },
   "outputs": [],
   "source": [
    "# load nltk's SnowballStemmer as variabled 'stemmer'\n",
    "from nltk.stem.snowball import SnowballStemmer\n",
    "stemmer = SnowballStemmer(\"english\")"
   ]
  },
  {
   "cell_type": "code",
   "execution_count": 11,
   "metadata": {
    "collapsed": true
   },
   "outputs": [],
   "source": [
    "def tokenize_and_stem(text):\n",
    "    # first tokenize by sentence, then by word to ensure that punctuation is caught as it's own token\n",
    "    tokens = [word for sentence in nltk.sent_tokenize(text) for word in nltk.word_tokenize(sentence)]\n",
    "    filtered_tokens = []\n",
    "    # filter out any tokens not containing letters (e.g., numeric tokens, raw punctuation)\n",
    "    for token in tokens:\n",
    "        if re.search('[a-zA-Z]', token):\n",
    "            filtered_tokens.append(token)\n",
    "    stems = [stemmer.stem(t) for t in filtered_tokens]\n",
    "    return stems"
   ]
  },
  {
   "cell_type": "code",
   "execution_count": 16,
   "metadata": {
    "collapsed": true
   },
   "outputs": [],
   "source": [
    "myString = 'Wow. More than lucky to be able to split a bottle of this with their own brewmaster! Lives up to the hype, the flavors keep changing in your mouth and you taste a whole buffet of breakfast, bourbon barrel adds some sweetness.  Sticky and coats your mouth and throat and the taste lingers for a long time.  TG creates some magnificent beers.L: Dinosaur blood with a chocolate milk head. Ultra thick lacing with great legs like T-Swizzle. <br>\\\\n<br>\\\\nS: Coffee, chocolate, maple, and whiskey (nothing new here, just basically copying and pasting what everyone else says). Once you pop the waxed top, the smell of good old fashioned Walmart-style American breakfast wafts throughout the room, lingering for hours to remind you of its greatness, cancelling out all other scents in the air like a heavenly beer Febreze.'"
   ]
  },
  {
   "cell_type": "code",
   "execution_count": 18,
   "metadata": {
    "collapsed": true
   },
   "outputs": [],
   "source": [
    "sentences = nltk.sent_tokenize(myString)"
   ]
  },
  {
   "cell_type": "code",
   "execution_count": 22,
   "metadata": {},
   "outputs": [
    {
     "data": {
      "text/plain": [
       "['Wow',\n",
       " '.',\n",
       " 'More',\n",
       " 'than',\n",
       " 'lucky',\n",
       " 'to',\n",
       " 'be',\n",
       " 'able',\n",
       " 'to',\n",
       " 'split',\n",
       " 'a',\n",
       " 'bottle',\n",
       " 'of',\n",
       " 'this',\n",
       " 'with',\n",
       " 'their',\n",
       " 'own',\n",
       " 'brewmaster',\n",
       " '!',\n",
       " 'Lives',\n",
       " 'up',\n",
       " 'to',\n",
       " 'the',\n",
       " 'hype',\n",
       " ',',\n",
       " 'the',\n",
       " 'flavors',\n",
       " 'keep',\n",
       " 'changing',\n",
       " 'in',\n",
       " 'your',\n",
       " 'mouth',\n",
       " 'and',\n",
       " 'you',\n",
       " 'taste',\n",
       " 'a',\n",
       " 'whole',\n",
       " 'buffet',\n",
       " 'of',\n",
       " 'breakfast',\n",
       " ',',\n",
       " 'bourbon',\n",
       " 'barrel',\n",
       " 'adds',\n",
       " 'some',\n",
       " 'sweetness',\n",
       " '.',\n",
       " 'Sticky',\n",
       " 'and',\n",
       " 'coats',\n",
       " 'your',\n",
       " 'mouth',\n",
       " 'and',\n",
       " 'throat',\n",
       " 'and',\n",
       " 'the',\n",
       " 'taste',\n",
       " 'lingers',\n",
       " 'for',\n",
       " 'a',\n",
       " 'long',\n",
       " 'time',\n",
       " '.',\n",
       " 'TG',\n",
       " 'creates',\n",
       " 'some',\n",
       " 'magnificent',\n",
       " 'beers.L',\n",
       " ':',\n",
       " 'Dinosaur',\n",
       " 'blood',\n",
       " 'with',\n",
       " 'a',\n",
       " 'chocolate',\n",
       " 'milk',\n",
       " 'head',\n",
       " '.',\n",
       " 'Ultra',\n",
       " 'thick',\n",
       " 'lacing',\n",
       " 'with',\n",
       " 'great',\n",
       " 'legs',\n",
       " 'like',\n",
       " 'T-Swizzle',\n",
       " '.',\n",
       " '<',\n",
       " 'br',\n",
       " '>',\n",
       " '\\\\n',\n",
       " '<',\n",
       " 'br',\n",
       " '>',\n",
       " '\\\\nS',\n",
       " ':',\n",
       " 'Coffee',\n",
       " ',',\n",
       " 'chocolate',\n",
       " ',',\n",
       " 'maple',\n",
       " ',',\n",
       " 'and',\n",
       " 'whiskey',\n",
       " '(',\n",
       " 'nothing',\n",
       " 'new',\n",
       " 'here',\n",
       " ',',\n",
       " 'just',\n",
       " 'basically',\n",
       " 'copying',\n",
       " 'and',\n",
       " 'pasting',\n",
       " 'what',\n",
       " 'everyone',\n",
       " 'else',\n",
       " 'says',\n",
       " ')',\n",
       " '.',\n",
       " 'Once',\n",
       " 'you',\n",
       " 'pop',\n",
       " 'the',\n",
       " 'waxed',\n",
       " 'top',\n",
       " ',',\n",
       " 'the',\n",
       " 'smell',\n",
       " 'of',\n",
       " 'good',\n",
       " 'old',\n",
       " 'fashioned',\n",
       " 'Walmart-style',\n",
       " 'American',\n",
       " 'breakfast',\n",
       " 'wafts',\n",
       " 'throughout',\n",
       " 'the',\n",
       " 'room',\n",
       " ',',\n",
       " 'lingering',\n",
       " 'for',\n",
       " 'hours',\n",
       " 'to',\n",
       " 'remind',\n",
       " 'you',\n",
       " 'of',\n",
       " 'its',\n",
       " 'greatness',\n",
       " ',',\n",
       " 'cancelling',\n",
       " 'out',\n",
       " 'all',\n",
       " 'other',\n",
       " 'scents',\n",
       " 'in',\n",
       " 'the',\n",
       " 'air',\n",
       " 'like',\n",
       " 'a',\n",
       " 'heavenly',\n",
       " 'beer',\n",
       " 'Febreze',\n",
       " '.']"
      ]
     },
     "execution_count": 22,
     "metadata": {},
     "output_type": "execute_result"
    }
   ],
   "source": [
    "nltk.word_tokenize(myString)"
   ]
  },
  {
   "cell_type": "code",
   "execution_count": 25,
   "metadata": {},
   "outputs": [
    {
     "data": {
      "text/plain": [
       "['wow',\n",
       " 'more',\n",
       " 'than',\n",
       " 'lucki',\n",
       " 'to',\n",
       " 'be',\n",
       " 'abl',\n",
       " 'to',\n",
       " 'split',\n",
       " 'a',\n",
       " 'bottl',\n",
       " 'of',\n",
       " 'this',\n",
       " 'with',\n",
       " 'their',\n",
       " 'own',\n",
       " 'brewmast',\n",
       " 'live',\n",
       " 'up',\n",
       " 'to',\n",
       " 'the',\n",
       " 'hype',\n",
       " 'the',\n",
       " 'flavor',\n",
       " 'keep',\n",
       " 'chang',\n",
       " 'in',\n",
       " 'your',\n",
       " 'mouth',\n",
       " 'and',\n",
       " 'you',\n",
       " 'tast',\n",
       " 'a',\n",
       " 'whole',\n",
       " 'buffet',\n",
       " 'of',\n",
       " 'breakfast',\n",
       " 'bourbon',\n",
       " 'barrel',\n",
       " 'add',\n",
       " 'some',\n",
       " 'sweet',\n",
       " 'sticki',\n",
       " 'and',\n",
       " 'coat',\n",
       " 'your',\n",
       " 'mouth',\n",
       " 'and',\n",
       " 'throat',\n",
       " 'and',\n",
       " 'the',\n",
       " 'tast',\n",
       " 'linger',\n",
       " 'for',\n",
       " 'a',\n",
       " 'long',\n",
       " 'time',\n",
       " 'tg',\n",
       " 'creat',\n",
       " 'some',\n",
       " 'magnific',\n",
       " 'beers.l',\n",
       " 'dinosaur',\n",
       " 'blood',\n",
       " 'with',\n",
       " 'a',\n",
       " 'chocol',\n",
       " 'milk',\n",
       " 'head',\n",
       " 'ultra',\n",
       " 'thick',\n",
       " 'lace',\n",
       " 'with',\n",
       " 'great',\n",
       " 'leg',\n",
       " 'like',\n",
       " 't-swizzl',\n",
       " 'br',\n",
       " '\\\\n',\n",
       " 'br',\n",
       " '\\\\ns',\n",
       " 'coffe',\n",
       " 'chocol',\n",
       " 'mapl',\n",
       " 'and',\n",
       " 'whiskey',\n",
       " 'noth',\n",
       " 'new',\n",
       " 'here',\n",
       " 'just',\n",
       " 'basic',\n",
       " 'copi',\n",
       " 'and',\n",
       " 'past',\n",
       " 'what',\n",
       " 'everyon',\n",
       " 'els',\n",
       " 'say',\n",
       " 'onc',\n",
       " 'you',\n",
       " 'pop',\n",
       " 'the',\n",
       " 'wax',\n",
       " 'top',\n",
       " 'the',\n",
       " 'smell',\n",
       " 'of',\n",
       " 'good',\n",
       " 'old',\n",
       " 'fashion',\n",
       " 'walmart-styl',\n",
       " 'american',\n",
       " 'breakfast',\n",
       " 'waft',\n",
       " 'throughout',\n",
       " 'the',\n",
       " 'room',\n",
       " 'linger',\n",
       " 'for',\n",
       " 'hour',\n",
       " 'to',\n",
       " 'remind',\n",
       " 'you',\n",
       " 'of',\n",
       " 'it',\n",
       " 'great',\n",
       " 'cancel',\n",
       " 'out',\n",
       " 'all',\n",
       " 'other',\n",
       " 'scent',\n",
       " 'in',\n",
       " 'the',\n",
       " 'air',\n",
       " 'like',\n",
       " 'a',\n",
       " 'heaven',\n",
       " 'beer',\n",
       " 'febrez']"
      ]
     },
     "execution_count": 25,
     "metadata": {},
     "output_type": "execute_result"
    }
   ],
   "source": [
    "tokenize_and_stem(myString)"
   ]
  },
  {
   "cell_type": "code",
   "execution_count": 28,
   "metadata": {
    "collapsed": true
   },
   "outputs": [],
   "source": [
    "from sklearn.feature_extraction.text import TfidfVectorizer\n",
    "\n",
    "tfidf_vectorizer = TfidfVectorizer(stop_words='english',\n",
    "                                   use_idf=True, tokenizer=tokenize_and_stem, ngram_range=(1,3))\n",
    "tfidf_matrix = tfidf_vectorizer.fit_transform(reviewList)"
   ]
  },
  {
   "cell_type": "code",
   "execution_count": 55,
   "metadata": {},
   "outputs": [
    {
     "data": {
      "text/plain": [
       "<1x16571 sparse matrix of type '<class 'numpy.float64'>'\n",
       "\twith 16571 stored elements in Compressed Sparse Row format>"
      ]
     },
     "execution_count": 55,
     "metadata": {},
     "output_type": "execute_result"
    }
   ],
   "source": [
    "tfidf_matrix"
   ]
  },
  {
   "cell_type": "code",
   "execution_count": 39,
   "metadata": {},
   "outputs": [
    {
     "data": {
      "text/plain": [
       "array([\"'d\", \"'d bcbcs\", \"'d bcbcs everi\", ..., 'zhukov', 'zhukov level',\n",
       "       'zhukov level perfect'], \n",
       "      dtype='<U40')"
      ]
     },
     "execution_count": 39,
     "metadata": {},
     "output_type": "execute_result"
    }
   ],
   "source": [
    "myArray = np.array(tfidf_vectorizer.get_feature_names())\n",
    "myArray"
   ]
  },
  {
   "cell_type": "code",
   "execution_count": 47,
   "metadata": {},
   "outputs": [
    {
     "data": {
      "text/plain": [
       "(16571,)"
      ]
     },
     "execution_count": 47,
     "metadata": {},
     "output_type": "execute_result"
    }
   ],
   "source": [
    "myArray.shape"
   ]
  },
  {
   "cell_type": "code",
   "execution_count": 63,
   "metadata": {
    "collapsed": true
   },
   "outputs": [],
   "source": [
    "myDF = pd.DataFrame(list(tfidf_matrix.toarray()), columns=tfidf_vectorizer.get_feature_names())"
   ]
  },
  {
   "cell_type": "code",
   "execution_count": 64,
   "metadata": {},
   "outputs": [
    {
     "data": {
      "text/html": [
       "<div>\n",
       "<style>\n",
       "    .dataframe thead tr:only-child th {\n",
       "        text-align: right;\n",
       "    }\n",
       "\n",
       "    .dataframe thead th {\n",
       "        text-align: left;\n",
       "    }\n",
       "\n",
       "    .dataframe tbody tr th {\n",
       "        vertical-align: top;\n",
       "    }\n",
       "</style>\n",
       "<table border=\"1\" class=\"dataframe\">\n",
       "  <thead>\n",
       "    <tr style=\"text-align: right;\">\n",
       "      <th></th>\n",
       "      <th>'d</th>\n",
       "      <th>'d bcbcs</th>\n",
       "      <th>'d bcbcs everi</th>\n",
       "      <th>'d brought</th>\n",
       "      <th>'d brought mule</th>\n",
       "      <th>'d catch</th>\n",
       "      <th>'d catch befor</th>\n",
       "      <th>'d expect</th>\n",
       "      <th>'d expect super</th>\n",
       "      <th>'d recommend</th>\n",
       "      <th>...</th>\n",
       "      <th>yes glad</th>\n",
       "      <th>yes glad gotten</th>\n",
       "      <th>yield</th>\n",
       "      <th>yield smell</th>\n",
       "      <th>yield smell medium</th>\n",
       "      <th>yield spot</th>\n",
       "      <th>yield spot lace</th>\n",
       "      <th>zhukov</th>\n",
       "      <th>zhukov level</th>\n",
       "      <th>zhukov level perfect</th>\n",
       "    </tr>\n",
       "  </thead>\n",
       "  <tbody>\n",
       "    <tr>\n",
       "      <th>0</th>\n",
       "      <td>0.009351</td>\n",
       "      <td>0.001039</td>\n",
       "      <td>0.001039</td>\n",
       "      <td>0.001039</td>\n",
       "      <td>0.001039</td>\n",
       "      <td>0.001039</td>\n",
       "      <td>0.001039</td>\n",
       "      <td>0.001039</td>\n",
       "      <td>0.001039</td>\n",
       "      <td>0.001039</td>\n",
       "      <td>...</td>\n",
       "      <td>0.001039</td>\n",
       "      <td>0.001039</td>\n",
       "      <td>0.002078</td>\n",
       "      <td>0.001039</td>\n",
       "      <td>0.001039</td>\n",
       "      <td>0.001039</td>\n",
       "      <td>0.001039</td>\n",
       "      <td>0.001039</td>\n",
       "      <td>0.001039</td>\n",
       "      <td>0.001039</td>\n",
       "    </tr>\n",
       "  </tbody>\n",
       "</table>\n",
       "<p>1 rows × 16571 columns</p>\n",
       "</div>"
      ],
      "text/plain": [
       "         'd  'd bcbcs  'd bcbcs everi  'd brought  'd brought mule  'd catch  \\\n",
       "0  0.009351  0.001039        0.001039    0.001039         0.001039  0.001039   \n",
       "\n",
       "   'd catch befor  'd expect  'd expect super  'd recommend  \\\n",
       "0        0.001039   0.001039         0.001039      0.001039   \n",
       "\n",
       "           ...           yes glad  yes glad gotten     yield  yield smell  \\\n",
       "0          ...           0.001039         0.001039  0.002078     0.001039   \n",
       "\n",
       "   yield smell medium  yield spot  yield spot lace    zhukov  zhukov level  \\\n",
       "0            0.001039    0.001039         0.001039  0.001039      0.001039   \n",
       "\n",
       "   zhukov level perfect  \n",
       "0              0.001039  \n",
       "\n",
       "[1 rows x 16571 columns]"
      ]
     },
     "execution_count": 64,
     "metadata": {},
     "output_type": "execute_result"
    }
   ],
   "source": [
    "myDF"
   ]
  },
  {
   "cell_type": "code",
   "execution_count": 66,
   "metadata": {},
   "outputs": [
    {
     "ename": "KeyError",
     "evalue": "1",
     "output_type": "error",
     "traceback": [
      "\u001b[0;31m---------------------------------------------------------------------------\u001b[0m",
      "\u001b[0;31mKeyError\u001b[0m                                  Traceback (most recent call last)",
      "\u001b[0;32m/Library/Frameworks/Python.framework/Versions/3.6/lib/python3.6/site-packages/pandas/core/indexes/base.py\u001b[0m in \u001b[0;36mget_loc\u001b[0;34m(self, key, method, tolerance)\u001b[0m\n\u001b[1;32m   2441\u001b[0m             \u001b[0;32mtry\u001b[0m\u001b[0;34m:\u001b[0m\u001b[0;34m\u001b[0m\u001b[0m\n\u001b[0;32m-> 2442\u001b[0;31m                 \u001b[0;32mreturn\u001b[0m \u001b[0mself\u001b[0m\u001b[0;34m.\u001b[0m\u001b[0m_engine\u001b[0m\u001b[0;34m.\u001b[0m\u001b[0mget_loc\u001b[0m\u001b[0;34m(\u001b[0m\u001b[0mkey\u001b[0m\u001b[0;34m)\u001b[0m\u001b[0;34m\u001b[0m\u001b[0m\n\u001b[0m\u001b[1;32m   2443\u001b[0m             \u001b[0;32mexcept\u001b[0m \u001b[0mKeyError\u001b[0m\u001b[0;34m:\u001b[0m\u001b[0;34m\u001b[0m\u001b[0m\n",
      "\u001b[0;32mpandas/_libs/index.pyx\u001b[0m in \u001b[0;36mpandas._libs.index.IndexEngine.get_loc (pandas/_libs/index.c:5280)\u001b[0;34m()\u001b[0m\n",
      "\u001b[0;32mpandas/_libs/index.pyx\u001b[0m in \u001b[0;36mpandas._libs.index.IndexEngine.get_loc (pandas/_libs/index.c:5126)\u001b[0;34m()\u001b[0m\n",
      "\u001b[0;32mpandas/_libs/hashtable_class_helper.pxi\u001b[0m in \u001b[0;36mpandas._libs.hashtable.PyObjectHashTable.get_item (pandas/_libs/hashtable.c:20523)\u001b[0;34m()\u001b[0m\n",
      "\u001b[0;32mpandas/_libs/hashtable_class_helper.pxi\u001b[0m in \u001b[0;36mpandas._libs.hashtable.PyObjectHashTable.get_item (pandas/_libs/hashtable.c:20477)\u001b[0;34m()\u001b[0m\n",
      "\u001b[0;31mKeyError\u001b[0m: 1",
      "\nDuring handling of the above exception, another exception occurred:\n",
      "\u001b[0;31mKeyError\u001b[0m                                  Traceback (most recent call last)",
      "\u001b[0;32m<ipython-input-66-58ece75fac6b>\u001b[0m in \u001b[0;36m<module>\u001b[0;34m()\u001b[0m\n\u001b[0;32m----> 1\u001b[0;31m \u001b[0mmyDF\u001b[0m\u001b[0;34m.\u001b[0m\u001b[0mnlargest\u001b[0m\u001b[0;34m(\u001b[0m\u001b[0;36m100\u001b[0m\u001b[0;34m,\u001b[0m\u001b[0;36m1\u001b[0m\u001b[0;34m)\u001b[0m\u001b[0;34m\u001b[0m\u001b[0m\n\u001b[0m",
      "\u001b[0;32m/Library/Frameworks/Python.framework/Versions/3.6/lib/python3.6/site-packages/pandas/core/frame.py\u001b[0m in \u001b[0;36mnlargest\u001b[0;34m(self, n, columns, keep)\u001b[0m\n\u001b[1;32m   3341\u001b[0m                                        \u001b[0mn\u001b[0m\u001b[0;34m=\u001b[0m\u001b[0mn\u001b[0m\u001b[0;34m,\u001b[0m\u001b[0;34m\u001b[0m\u001b[0m\n\u001b[1;32m   3342\u001b[0m                                        \u001b[0mkeep\u001b[0m\u001b[0;34m=\u001b[0m\u001b[0mkeep\u001b[0m\u001b[0;34m,\u001b[0m\u001b[0;34m\u001b[0m\u001b[0m\n\u001b[0;32m-> 3343\u001b[0;31m                                        columns=columns).nlargest()\n\u001b[0m\u001b[1;32m   3344\u001b[0m \u001b[0;34m\u001b[0m\u001b[0m\n\u001b[1;32m   3345\u001b[0m     \u001b[0;32mdef\u001b[0m \u001b[0mnsmallest\u001b[0m\u001b[0;34m(\u001b[0m\u001b[0mself\u001b[0m\u001b[0;34m,\u001b[0m \u001b[0mn\u001b[0m\u001b[0;34m,\u001b[0m \u001b[0mcolumns\u001b[0m\u001b[0;34m,\u001b[0m \u001b[0mkeep\u001b[0m\u001b[0;34m=\u001b[0m\u001b[0;34m'first'\u001b[0m\u001b[0;34m)\u001b[0m\u001b[0;34m:\u001b[0m\u001b[0;34m\u001b[0m\u001b[0m\n",
      "\u001b[0;32m/Library/Frameworks/Python.framework/Versions/3.6/lib/python3.6/site-packages/pandas/core/algorithms.py\u001b[0m in \u001b[0;36mnlargest\u001b[0;34m(self)\u001b[0m\n\u001b[1;32m   1003\u001b[0m \u001b[0;34m\u001b[0m\u001b[0m\n\u001b[1;32m   1004\u001b[0m     \u001b[0;32mdef\u001b[0m \u001b[0mnlargest\u001b[0m\u001b[0;34m(\u001b[0m\u001b[0mself\u001b[0m\u001b[0;34m)\u001b[0m\u001b[0;34m:\u001b[0m\u001b[0;34m\u001b[0m\u001b[0m\n\u001b[0;32m-> 1005\u001b[0;31m         \u001b[0;32mreturn\u001b[0m \u001b[0mself\u001b[0m\u001b[0;34m.\u001b[0m\u001b[0mcompute\u001b[0m\u001b[0;34m(\u001b[0m\u001b[0;34m'nlargest'\u001b[0m\u001b[0;34m)\u001b[0m\u001b[0;34m\u001b[0m\u001b[0m\n\u001b[0m\u001b[1;32m   1006\u001b[0m \u001b[0;34m\u001b[0m\u001b[0m\n\u001b[1;32m   1007\u001b[0m     \u001b[0;32mdef\u001b[0m \u001b[0mnsmallest\u001b[0m\u001b[0;34m(\u001b[0m\u001b[0mself\u001b[0m\u001b[0;34m)\u001b[0m\u001b[0;34m:\u001b[0m\u001b[0;34m\u001b[0m\u001b[0m\n",
      "\u001b[0;32m/Library/Frameworks/Python.framework/Versions/3.6/lib/python3.6/site-packages/pandas/core/algorithms.py\u001b[0m in \u001b[0;36mcompute\u001b[0;34m(self, method)\u001b[0m\n\u001b[1;32m   1107\u001b[0m \u001b[0;34m\u001b[0m\u001b[0m\n\u001b[1;32m   1108\u001b[0m         \u001b[0;32mfor\u001b[0m \u001b[0mcolumn\u001b[0m \u001b[0;32min\u001b[0m \u001b[0mcolumns\u001b[0m\u001b[0;34m:\u001b[0m\u001b[0;34m\u001b[0m\u001b[0m\n\u001b[0;32m-> 1109\u001b[0;31m             \u001b[0mdtype\u001b[0m \u001b[0;34m=\u001b[0m \u001b[0mframe\u001b[0m\u001b[0;34m[\u001b[0m\u001b[0mcolumn\u001b[0m\u001b[0;34m]\u001b[0m\u001b[0;34m.\u001b[0m\u001b[0mdtype\u001b[0m\u001b[0;34m\u001b[0m\u001b[0m\n\u001b[0m\u001b[1;32m   1110\u001b[0m             \u001b[0;32mif\u001b[0m \u001b[0;32mnot\u001b[0m \u001b[0mself\u001b[0m\u001b[0;34m.\u001b[0m\u001b[0mis_valid_dtype_n_method\u001b[0m\u001b[0;34m(\u001b[0m\u001b[0mdtype\u001b[0m\u001b[0;34m)\u001b[0m\u001b[0;34m:\u001b[0m\u001b[0;34m\u001b[0m\u001b[0m\n\u001b[1;32m   1111\u001b[0m                 raise TypeError((\n",
      "\u001b[0;32m/Library/Frameworks/Python.framework/Versions/3.6/lib/python3.6/site-packages/pandas/core/frame.py\u001b[0m in \u001b[0;36m__getitem__\u001b[0;34m(self, key)\u001b[0m\n\u001b[1;32m   1962\u001b[0m             \u001b[0;32mreturn\u001b[0m \u001b[0mself\u001b[0m\u001b[0;34m.\u001b[0m\u001b[0m_getitem_multilevel\u001b[0m\u001b[0;34m(\u001b[0m\u001b[0mkey\u001b[0m\u001b[0;34m)\u001b[0m\u001b[0;34m\u001b[0m\u001b[0m\n\u001b[1;32m   1963\u001b[0m         \u001b[0;32melse\u001b[0m\u001b[0;34m:\u001b[0m\u001b[0;34m\u001b[0m\u001b[0m\n\u001b[0;32m-> 1964\u001b[0;31m             \u001b[0;32mreturn\u001b[0m \u001b[0mself\u001b[0m\u001b[0;34m.\u001b[0m\u001b[0m_getitem_column\u001b[0m\u001b[0;34m(\u001b[0m\u001b[0mkey\u001b[0m\u001b[0;34m)\u001b[0m\u001b[0;34m\u001b[0m\u001b[0m\n\u001b[0m\u001b[1;32m   1965\u001b[0m \u001b[0;34m\u001b[0m\u001b[0m\n\u001b[1;32m   1966\u001b[0m     \u001b[0;32mdef\u001b[0m \u001b[0m_getitem_column\u001b[0m\u001b[0;34m(\u001b[0m\u001b[0mself\u001b[0m\u001b[0;34m,\u001b[0m \u001b[0mkey\u001b[0m\u001b[0;34m)\u001b[0m\u001b[0;34m:\u001b[0m\u001b[0;34m\u001b[0m\u001b[0m\n",
      "\u001b[0;32m/Library/Frameworks/Python.framework/Versions/3.6/lib/python3.6/site-packages/pandas/core/frame.py\u001b[0m in \u001b[0;36m_getitem_column\u001b[0;34m(self, key)\u001b[0m\n\u001b[1;32m   1969\u001b[0m         \u001b[0;31m# get column\u001b[0m\u001b[0;34m\u001b[0m\u001b[0;34m\u001b[0m\u001b[0m\n\u001b[1;32m   1970\u001b[0m         \u001b[0;32mif\u001b[0m \u001b[0mself\u001b[0m\u001b[0;34m.\u001b[0m\u001b[0mcolumns\u001b[0m\u001b[0;34m.\u001b[0m\u001b[0mis_unique\u001b[0m\u001b[0;34m:\u001b[0m\u001b[0;34m\u001b[0m\u001b[0m\n\u001b[0;32m-> 1971\u001b[0;31m             \u001b[0;32mreturn\u001b[0m \u001b[0mself\u001b[0m\u001b[0;34m.\u001b[0m\u001b[0m_get_item_cache\u001b[0m\u001b[0;34m(\u001b[0m\u001b[0mkey\u001b[0m\u001b[0;34m)\u001b[0m\u001b[0;34m\u001b[0m\u001b[0m\n\u001b[0m\u001b[1;32m   1972\u001b[0m \u001b[0;34m\u001b[0m\u001b[0m\n\u001b[1;32m   1973\u001b[0m         \u001b[0;31m# duplicate columns & possible reduce dimensionality\u001b[0m\u001b[0;34m\u001b[0m\u001b[0;34m\u001b[0m\u001b[0m\n",
      "\u001b[0;32m/Library/Frameworks/Python.framework/Versions/3.6/lib/python3.6/site-packages/pandas/core/generic.py\u001b[0m in \u001b[0;36m_get_item_cache\u001b[0;34m(self, item)\u001b[0m\n\u001b[1;32m   1643\u001b[0m         \u001b[0mres\u001b[0m \u001b[0;34m=\u001b[0m \u001b[0mcache\u001b[0m\u001b[0;34m.\u001b[0m\u001b[0mget\u001b[0m\u001b[0;34m(\u001b[0m\u001b[0mitem\u001b[0m\u001b[0;34m)\u001b[0m\u001b[0;34m\u001b[0m\u001b[0m\n\u001b[1;32m   1644\u001b[0m         \u001b[0;32mif\u001b[0m \u001b[0mres\u001b[0m \u001b[0;32mis\u001b[0m \u001b[0;32mNone\u001b[0m\u001b[0;34m:\u001b[0m\u001b[0;34m\u001b[0m\u001b[0m\n\u001b[0;32m-> 1645\u001b[0;31m             \u001b[0mvalues\u001b[0m \u001b[0;34m=\u001b[0m \u001b[0mself\u001b[0m\u001b[0;34m.\u001b[0m\u001b[0m_data\u001b[0m\u001b[0;34m.\u001b[0m\u001b[0mget\u001b[0m\u001b[0;34m(\u001b[0m\u001b[0mitem\u001b[0m\u001b[0;34m)\u001b[0m\u001b[0;34m\u001b[0m\u001b[0m\n\u001b[0m\u001b[1;32m   1646\u001b[0m             \u001b[0mres\u001b[0m \u001b[0;34m=\u001b[0m \u001b[0mself\u001b[0m\u001b[0;34m.\u001b[0m\u001b[0m_box_item_values\u001b[0m\u001b[0;34m(\u001b[0m\u001b[0mitem\u001b[0m\u001b[0;34m,\u001b[0m \u001b[0mvalues\u001b[0m\u001b[0;34m)\u001b[0m\u001b[0;34m\u001b[0m\u001b[0m\n\u001b[1;32m   1647\u001b[0m             \u001b[0mcache\u001b[0m\u001b[0;34m[\u001b[0m\u001b[0mitem\u001b[0m\u001b[0;34m]\u001b[0m \u001b[0;34m=\u001b[0m \u001b[0mres\u001b[0m\u001b[0;34m\u001b[0m\u001b[0m\n",
      "\u001b[0;32m/Library/Frameworks/Python.framework/Versions/3.6/lib/python3.6/site-packages/pandas/core/internals.py\u001b[0m in \u001b[0;36mget\u001b[0;34m(self, item, fastpath)\u001b[0m\n\u001b[1;32m   3588\u001b[0m \u001b[0;34m\u001b[0m\u001b[0m\n\u001b[1;32m   3589\u001b[0m             \u001b[0;32mif\u001b[0m \u001b[0;32mnot\u001b[0m \u001b[0misnull\u001b[0m\u001b[0;34m(\u001b[0m\u001b[0mitem\u001b[0m\u001b[0;34m)\u001b[0m\u001b[0;34m:\u001b[0m\u001b[0;34m\u001b[0m\u001b[0m\n\u001b[0;32m-> 3590\u001b[0;31m                 \u001b[0mloc\u001b[0m \u001b[0;34m=\u001b[0m \u001b[0mself\u001b[0m\u001b[0;34m.\u001b[0m\u001b[0mitems\u001b[0m\u001b[0;34m.\u001b[0m\u001b[0mget_loc\u001b[0m\u001b[0;34m(\u001b[0m\u001b[0mitem\u001b[0m\u001b[0;34m)\u001b[0m\u001b[0;34m\u001b[0m\u001b[0m\n\u001b[0m\u001b[1;32m   3591\u001b[0m             \u001b[0;32melse\u001b[0m\u001b[0;34m:\u001b[0m\u001b[0;34m\u001b[0m\u001b[0m\n\u001b[1;32m   3592\u001b[0m                 \u001b[0mindexer\u001b[0m \u001b[0;34m=\u001b[0m \u001b[0mnp\u001b[0m\u001b[0;34m.\u001b[0m\u001b[0marange\u001b[0m\u001b[0;34m(\u001b[0m\u001b[0mlen\u001b[0m\u001b[0;34m(\u001b[0m\u001b[0mself\u001b[0m\u001b[0;34m.\u001b[0m\u001b[0mitems\u001b[0m\u001b[0;34m)\u001b[0m\u001b[0;34m)\u001b[0m\u001b[0;34m[\u001b[0m\u001b[0misnull\u001b[0m\u001b[0;34m(\u001b[0m\u001b[0mself\u001b[0m\u001b[0;34m.\u001b[0m\u001b[0mitems\u001b[0m\u001b[0;34m)\u001b[0m\u001b[0;34m]\u001b[0m\u001b[0;34m\u001b[0m\u001b[0m\n",
      "\u001b[0;32m/Library/Frameworks/Python.framework/Versions/3.6/lib/python3.6/site-packages/pandas/core/indexes/base.py\u001b[0m in \u001b[0;36mget_loc\u001b[0;34m(self, key, method, tolerance)\u001b[0m\n\u001b[1;32m   2442\u001b[0m                 \u001b[0;32mreturn\u001b[0m \u001b[0mself\u001b[0m\u001b[0;34m.\u001b[0m\u001b[0m_engine\u001b[0m\u001b[0;34m.\u001b[0m\u001b[0mget_loc\u001b[0m\u001b[0;34m(\u001b[0m\u001b[0mkey\u001b[0m\u001b[0;34m)\u001b[0m\u001b[0;34m\u001b[0m\u001b[0m\n\u001b[1;32m   2443\u001b[0m             \u001b[0;32mexcept\u001b[0m \u001b[0mKeyError\u001b[0m\u001b[0;34m:\u001b[0m\u001b[0;34m\u001b[0m\u001b[0m\n\u001b[0;32m-> 2444\u001b[0;31m                 \u001b[0;32mreturn\u001b[0m \u001b[0mself\u001b[0m\u001b[0;34m.\u001b[0m\u001b[0m_engine\u001b[0m\u001b[0;34m.\u001b[0m\u001b[0mget_loc\u001b[0m\u001b[0;34m(\u001b[0m\u001b[0mself\u001b[0m\u001b[0;34m.\u001b[0m\u001b[0m_maybe_cast_indexer\u001b[0m\u001b[0;34m(\u001b[0m\u001b[0mkey\u001b[0m\u001b[0;34m)\u001b[0m\u001b[0;34m)\u001b[0m\u001b[0;34m\u001b[0m\u001b[0m\n\u001b[0m\u001b[1;32m   2445\u001b[0m \u001b[0;34m\u001b[0m\u001b[0m\n\u001b[1;32m   2446\u001b[0m         \u001b[0mindexer\u001b[0m \u001b[0;34m=\u001b[0m \u001b[0mself\u001b[0m\u001b[0;34m.\u001b[0m\u001b[0mget_indexer\u001b[0m\u001b[0;34m(\u001b[0m\u001b[0;34m[\u001b[0m\u001b[0mkey\u001b[0m\u001b[0;34m]\u001b[0m\u001b[0;34m,\u001b[0m \u001b[0mmethod\u001b[0m\u001b[0;34m=\u001b[0m\u001b[0mmethod\u001b[0m\u001b[0;34m,\u001b[0m \u001b[0mtolerance\u001b[0m\u001b[0;34m=\u001b[0m\u001b[0mtolerance\u001b[0m\u001b[0;34m)\u001b[0m\u001b[0;34m\u001b[0m\u001b[0m\n",
      "\u001b[0;32mpandas/_libs/index.pyx\u001b[0m in \u001b[0;36mpandas._libs.index.IndexEngine.get_loc (pandas/_libs/index.c:5280)\u001b[0;34m()\u001b[0m\n",
      "\u001b[0;32mpandas/_libs/index.pyx\u001b[0m in \u001b[0;36mpandas._libs.index.IndexEngine.get_loc (pandas/_libs/index.c:5126)\u001b[0;34m()\u001b[0m\n",
      "\u001b[0;32mpandas/_libs/hashtable_class_helper.pxi\u001b[0m in \u001b[0;36mpandas._libs.hashtable.PyObjectHashTable.get_item (pandas/_libs/hashtable.c:20523)\u001b[0;34m()\u001b[0m\n",
      "\u001b[0;32mpandas/_libs/hashtable_class_helper.pxi\u001b[0m in \u001b[0;36mpandas._libs.hashtable.PyObjectHashTable.get_item (pandas/_libs/hashtable.c:20477)\u001b[0;34m()\u001b[0m\n",
      "\u001b[0;31mKeyError\u001b[0m: 1"
     ]
    }
   ],
   "source": [
    "# Need dataframe of top N terms for each documents.\n",
    "\n",
    "myDF.nlargest(1)"
   ]
  },
  {
   "cell_type": "code",
   "execution_count": 13,
   "metadata": {
    "collapsed": true
   },
   "outputs": [],
   "source": []
  },
  {
   "cell_type": "code",
   "execution_count": 26,
   "metadata": {},
   "outputs": [
    {
     "data": {
      "text/plain": [
       "14216"
      ]
     },
     "execution_count": 26,
     "metadata": {},
     "output_type": "execute_result"
    }
   ],
   "source": []
  },
  {
   "cell_type": "code",
   "execution_count": 50,
   "metadata": {},
   "outputs": [],
   "source": [
    "import plotly\n",
    "import plotly.graph_objs as go\n",
    "plotly.tools.set_credentials_file(username='ritter.neil', api_key='mef0apJMdCz38tnt0C3O')"
   ]
  },
  {
   "cell_type": "code",
   "execution_count": 51,
   "metadata": {},
   "outputs": [],
   "source": [
    "trace = [go.Scatter(\n",
    "                x = [1, 2, 3, 4, 5],\n",
    "                y = [10, 20, 30, 40, 50],\n",
    "                mode = 'markers')]\n",
    "data = trace"
   ]
  },
  {
   "cell_type": "code",
   "execution_count": 53,
   "metadata": {},
   "outputs": [
    {
     "name": "stdout",
     "output_type": "stream",
     "text": [
      "High five! You successfully sent some data to your account on plotly. View your plot in your browser at https://plot.ly/~ritter.neil/0 or inside your plot.ly account where it is named 'basic-scatter'\n"
     ]
    },
    {
     "data": {
      "text/html": [
       "<iframe id=\"igraph\" scrolling=\"no\" style=\"border:none;\" seamless=\"seamless\" src=\"https://plot.ly/~ritter.neil/0.embed\" height=\"525px\" width=\"100%\"></iframe>"
      ],
      "text/plain": [
       "<plotly.tools.PlotlyDisplay object>"
      ]
     },
     "execution_count": 53,
     "metadata": {},
     "output_type": "execute_result"
    }
   ],
   "source": [
    "fig = dict(data = data)\n",
    "py.iplot(fig, filename = 'basic-scatter')"
   ]
  },
  {
   "cell_type": "code",
   "execution_count": 54,
   "metadata": {},
   "outputs": [
    {
     "data": {
      "text/plain": [
       "array([[ 0.37742916,  0.25070079,  0.91929358,  0.0363214 ,  0.75134546],\n",
       "       [ 0.94734513,  0.75809351,  0.20125545,  0.29511754,  0.18204181],\n",
       "       [ 0.09277867,  0.81879292,  0.49925222,  0.91264772,  0.39614117],\n",
       "       [ 0.33352693,  0.33433131,  0.96168075,  0.72854833,  0.39581349],\n",
       "       [ 0.17428939,  0.63273011,  0.95281017,  0.55183503,  0.16536889]])"
      ]
     },
     "execution_count": 54,
     "metadata": {},
     "output_type": "execute_result"
    }
   ],
   "source": [
    "np.random.rand(5,5)"
   ]
  },
  {
   "cell_type": "code",
   "execution_count": 55,
   "metadata": {
    "collapsed": true
   },
   "outputs": [],
   "source": [
    "    graphs = [dict(\n",
    "                    data = [dict(\n",
    "                                x = [1, 2, 3, 4, 5],\n",
    "                                y = [10, 20, 30, 40, 50],\n",
    "                                type = 'scatter'\n",
    "                                )],\n",
    "\n",
    "                    layout = dict(\n",
    "                                title = 'first'\n",
    "                                )\n",
    "                )]\n",
    "\n",
    "    # Add \"ids\" to each of the graphs to pass up to the client\n",
    "    # for templating\n",
    "    ids = ['graph-{}'.format(i) for i, _ in enumerate(graphs)]"
   ]
  },
  {
   "cell_type": "code",
   "execution_count": 56,
   "metadata": {},
   "outputs": [
    {
     "data": {
      "text/plain": [
       "['graph-0']"
      ]
     },
     "execution_count": 56,
     "metadata": {},
     "output_type": "execute_result"
    }
   ],
   "source": [
    "ids"
   ]
  },
  {
   "cell_type": "code",
   "execution_count": 59,
   "metadata": {},
   "outputs": [
    {
     "name": "stdout",
     "output_type": "stream",
     "text": [
      "4 pear\n",
      "4 pear\n",
      "4 pear\n",
      "4 pear\n"
     ]
    }
   ],
   "source": [
    "my_list = ['apple', 'banana', 'grapes', 'pear']\n",
    "for i, _ in enumerate(my_list, 1):\n",
    "    print(c, value)\n",
    "\n"
   ]
  },
  {
   "cell_type": "code",
   "execution_count": 62,
   "metadata": {},
   "outputs": [],
   "source": [
    "rng = pd.date_range('1/1/2011', periods=7500, freq='H')\n",
    "ts = pd.Series(np.random.randn(len(rng)), index=rng)\n",
    "\n",
    "graphs = [\n",
    "        dict(\n",
    "            data=[\n",
    "                dict(\n",
    "                    x=[1, 2, 3],\n",
    "                    y=[10, 20, 30],\n",
    "                    type='scatter'\n",
    "                ),\n",
    "            ],\n",
    "            layout=dict(\n",
    "                title='first graph'\n",
    "            )\n",
    "        ),\n",
    "\n",
    "        dict(\n",
    "            data=[\n",
    "                dict(\n",
    "                    x=[1, 3, 5],\n",
    "                    y=[10, 50, 30],\n",
    "                    type='bar'\n",
    "                ),\n",
    "            ],\n",
    "            layout=dict(\n",
    "                title='second graph'\n",
    "            )\n",
    "        ),\n",
    "\n",
    "        dict(\n",
    "            data=[\n",
    "                dict(\n",
    "                    x=ts.index,  # Can use the pandas data structures directly\n",
    "                    y=ts\n",
    "                )\n",
    "            ]\n",
    "        )\n",
    "    ]\n"
   ]
  },
  {
   "cell_type": "code",
   "execution_count": 63,
   "metadata": {
    "collapsed": true
   },
   "outputs": [],
   "source": [
    "ids = ['graph-{}'.format(i) for i, _ in enumerate(graphs)]"
   ]
  },
  {
   "cell_type": "code",
   "execution_count": 72,
   "metadata": {},
   "outputs": [
    {
     "data": {
      "text/plain": [
       "3"
      ]
     },
     "execution_count": 72,
     "metadata": {},
     "output_type": "execute_result"
    }
   ],
   "source": [
    "len(ids)"
   ]
  },
  {
   "cell_type": "code",
   "execution_count": 70,
   "metadata": {},
   "outputs": [
    {
     "name": "stdout",
     "output_type": "stream",
     "text": [
      "0\n",
      "{'data': [{'x': [1, 2, 3], 'y': [10, 20, 30], 'type': 'scatter'}], 'layout': {'title': 'first graph'}}\n",
      "1\n",
      "{'data': [{'x': [1, 3, 5], 'y': [10, 50, 30], 'type': 'bar'}], 'layout': {'title': 'second graph'}}\n",
      "2\n",
      "{'data': [{'x': DatetimeIndex(['2011-01-01 00:00:00', '2011-01-01 01:00:00',\n",
      "               '2011-01-01 02:00:00', '2011-01-01 03:00:00',\n",
      "               '2011-01-01 04:00:00', '2011-01-01 05:00:00',\n",
      "               '2011-01-01 06:00:00', '2011-01-01 07:00:00',\n",
      "               '2011-01-01 08:00:00', '2011-01-01 09:00:00',\n",
      "               ...\n",
      "               '2011-11-09 02:00:00', '2011-11-09 03:00:00',\n",
      "               '2011-11-09 04:00:00', '2011-11-09 05:00:00',\n",
      "               '2011-11-09 06:00:00', '2011-11-09 07:00:00',\n",
      "               '2011-11-09 08:00:00', '2011-11-09 09:00:00',\n",
      "               '2011-11-09 10:00:00', '2011-11-09 11:00:00'],\n",
      "              dtype='datetime64[ns]', length=7500, freq='H'), 'y': 2011-01-01 00:00:00   -0.042989\n",
      "2011-01-01 01:00:00   -0.223378\n",
      "2011-01-01 02:00:00   -0.364571\n",
      "2011-01-01 03:00:00   -0.411999\n",
      "2011-01-01 04:00:00   -0.791703\n",
      "2011-01-01 05:00:00    1.756820\n",
      "2011-01-01 06:00:00   -0.822907\n",
      "2011-01-01 07:00:00   -1.065296\n",
      "2011-01-01 08:00:00   -0.804430\n",
      "2011-01-01 09:00:00    1.308751\n",
      "2011-01-01 10:00:00    2.213249\n",
      "2011-01-01 11:00:00    0.725221\n",
      "2011-01-01 12:00:00    1.812441\n",
      "2011-01-01 13:00:00   -0.093469\n",
      "2011-01-01 14:00:00   -0.012348\n",
      "2011-01-01 15:00:00    0.701112\n",
      "2011-01-01 16:00:00   -1.152257\n",
      "2011-01-01 17:00:00    0.851272\n",
      "2011-01-01 18:00:00   -0.292215\n",
      "2011-01-01 19:00:00   -1.125407\n",
      "2011-01-01 20:00:00   -0.086717\n",
      "2011-01-01 21:00:00   -1.966489\n",
      "2011-01-01 22:00:00   -0.376116\n",
      "2011-01-01 23:00:00   -0.583641\n",
      "2011-01-02 00:00:00    1.553290\n",
      "2011-01-02 01:00:00    1.359651\n",
      "2011-01-02 02:00:00   -1.624054\n",
      "2011-01-02 03:00:00   -0.481550\n",
      "2011-01-02 04:00:00    0.918586\n",
      "2011-01-02 05:00:00    1.316803\n",
      "                         ...   \n",
      "2011-11-08 06:00:00   -0.390180\n",
      "2011-11-08 07:00:00    1.707633\n",
      "2011-11-08 08:00:00    0.146316\n",
      "2011-11-08 09:00:00    0.692916\n",
      "2011-11-08 10:00:00    0.315778\n",
      "2011-11-08 11:00:00    1.522842\n",
      "2011-11-08 12:00:00   -0.624290\n",
      "2011-11-08 13:00:00   -0.174399\n",
      "2011-11-08 14:00:00    0.516175\n",
      "2011-11-08 15:00:00    0.041668\n",
      "2011-11-08 16:00:00    1.679341\n",
      "2011-11-08 17:00:00    1.695481\n",
      "2011-11-08 18:00:00    0.905101\n",
      "2011-11-08 19:00:00    0.363363\n",
      "2011-11-08 20:00:00   -0.322776\n",
      "2011-11-08 21:00:00    0.257116\n",
      "2011-11-08 22:00:00   -0.472220\n",
      "2011-11-08 23:00:00    0.130596\n",
      "2011-11-09 00:00:00    1.069509\n",
      "2011-11-09 01:00:00    0.049860\n",
      "2011-11-09 02:00:00   -1.607867\n",
      "2011-11-09 03:00:00    0.648826\n",
      "2011-11-09 04:00:00    0.788256\n",
      "2011-11-09 05:00:00    1.760093\n",
      "2011-11-09 06:00:00    0.295380\n",
      "2011-11-09 07:00:00    0.446698\n",
      "2011-11-09 08:00:00    1.013016\n",
      "2011-11-09 09:00:00    0.621264\n",
      "2011-11-09 10:00:00    1.037657\n",
      "2011-11-09 11:00:00    0.771451\n",
      "Freq: H, Length: 7500, dtype: float64}]}\n"
     ]
    }
   ],
   "source": [
    "for i, _ in enumerate(graphs):\n",
    "    print(i)\n",
    "    print(_)"
   ]
  },
  {
   "cell_type": "code",
   "execution_count": null,
   "metadata": {
    "collapsed": true
   },
   "outputs": [],
   "source": []
  }
 ],
 "metadata": {
  "kernelspec": {
   "display_name": "Python 3",
   "language": "python",
   "name": "python3"
  },
  "language_info": {
   "codemirror_mode": {
    "name": "ipython",
    "version": 3
   },
   "file_extension": ".py",
   "mimetype": "text/x-python",
   "name": "python",
   "nbconvert_exporter": "python",
   "pygments_lexer": "ipython3",
   "version": "3.6.0"
  }
 },
 "nbformat": 4,
 "nbformat_minor": 2
}
