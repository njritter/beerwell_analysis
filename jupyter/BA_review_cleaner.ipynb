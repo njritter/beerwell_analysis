{
 "cells": [
  {
   "cell_type": "code",
   "execution_count": null,
   "metadata": {
    "collapsed": true
   },
   "outputs": [],
   "source": []
  },
  {
   "cell_type": "code",
   "execution_count": null,
   "metadata": {
    "collapsed": true
   },
   "outputs": [],
   "source": []
  },
  {
   "cell_type": "code",
   "execution_count": null,
   "metadata": {
    "collapsed": true
   },
   "outputs": [],
   "source": []
  },
  {
   "cell_type": "code",
   "execution_count": 12,
   "metadata": {},
   "outputs": [
    {
     "data": {
      "text/plain": [
       "'Wow. More than lucky to be able to split a bottle of this with their own brewmaster! Lives up to the hype, the flavors keep changing in your mouth and you taste a whole buffet of breakfast, bourbon barrel adds some sweetness.  Sticky and coats your mouth and throat and the taste lingers for a long time.  TG creates some magnificent beers.L: Dinosaur blood with a chocolate milk head. Ultra thick lacing with great legs like T-Swizzle. <br>\\\\n<br>\\\\nS: Coffee, chocolate, maple, and whiskey (nothing new here, just basically copying and pasting what everyone else says). Once you pop the waxed top, the smell of good old fashioned Walmart-style American breakfast wafts throughout the room, lingering for hours to remind you of its greatness, cancelling out all other scents in the air like a heavenly beer Febreze.  <br>\\\\n<br>\\\\nT: Imagine a chewy, whiskey-dipped brownie corner -chased with a shot of maple syrup infused roasted coffee- that assaults your palate with a heavy, sugary sweetness that brings you back to the warm and blissful memories of childhood. This is Mornin\\' Delight elevated to god-tier status with the help from a little time spent in whiskey barrels. The result is sinfully divine. <br>\\\\n<br>\\\\nM: Viscous and unctuous with the perfect amount of carbonation; this the beer that Untappd cicerones dream of when they discuss the term \"mouthfeel.\" This beer sticks to your membranes like Grandma\\'s classic biscuits and gravy. It is magical. It makes you not want to brush your teeth at night.<br>\\\\n<br>\\\\nO:  This is one of the best beers on the planet. However, I expected a life-altering craft beer experience when I opened my hand numbered bottle of Kentucky Brunch Brand Stout (note: a bottle that was hand-handed to me by Mike at Toppling Goliath), and all I got in return was an amazingly good beer and a fantastic evening together with family. Overall, it was a terrific occasion and a memorable event, but not one that stands out in my mind as one of the greatest moments of my existence.'"
      ]
     },
     "execution_count": 12,
     "metadata": {},
     "output_type": "execute_result"
    }
   ],
   "source": [
    "myString = 'Wow. More than lucky to be able to split a bottle of this with their own brewmaster! Lives up to the hype, the flavors keep changing in your mouth and you taste a whole buffet of breakfast, bourbon barrel adds some sweetness.  Sticky and coats your mouth and throat and the taste lingers for a long time.  TG creates some magnificent beers.L: Dinosaur blood with a chocolate milk head. Ultra thick lacing with great legs like T-Swizzle. <br>\\\\n<br>\\\\nS: Coffee, chocolate, maple, and whiskey (nothing new here, just basically copying and pasting what everyone else says). Once you pop the waxed top, the smell of good old fashioned Walmart-style American breakfast wafts throughout the room, lingering for hours to remind you of its greatness, cancelling out all other scents in the air like a heavenly beer Febreze.  <br>\\\\n<br>\\\\nT: Imagine a chewy, whiskey-dipped brownie corner -chased with a shot of maple syrup infused roasted coffee- that assaults your palate with a heavy, sugary sweetness that brings you back to the warm and blissful memories of childhood. This is Mornin\\' Delight elevated to god-tier status with the help from a little time spent in whiskey barrels. The result is sinfully divine. <br>\\\\n<br>\\\\nM: Viscous and unctuous with the perfect amount of carbonation; this the beer that Untappd cicerones dream of when they discuss the term \"mouthfeel.\" This beer sticks to your membranes like Grandma\\'s classic biscuits and gravy. It is magical. It makes you not want to brush your teeth at night.<br>\\\\n<br>\\\\nO:  This is one of the best beers on the planet. However, I expected a life-altering craft beer experience when I opened my hand numbered bottle of Kentucky Brunch Brand Stout (note: a bottle that was hand-handed to me by Mike at Toppling Goliath), and all I got in return was an amazingly good beer and a fantastic evening together with family. Overall, it was a terrific occasion and a memorable event, but not one that stands out in my mind as one of the greatest moments of my existence.'\n",
    "myString"
   ]
  },
  {
   "cell_type": "code",
   "execution_count": 13,
   "metadata": {
    "collapsed": true
   },
   "outputs": [],
   "source": [
    "newString = myString.replace('<br>', '');"
   ]
  },
  {
   "cell_type": "code",
   "execution_count": 14,
   "metadata": {},
   "outputs": [
    {
     "data": {
      "text/plain": [
       "'Wow. More than lucky to be able to split a bottle of this with their own brewmaster! Lives up to the hype, the flavors keep changing in your mouth and you taste a whole buffet of breakfast, bourbon barrel adds some sweetness.  Sticky and coats your mouth and throat and the taste lingers for a long time.  TG creates some magnificent beers.L: Dinosaur blood with a chocolate milk head. Ultra thick lacing with great legs like T-Swizzle. \\\\n\\\\nS: Coffee, chocolate, maple, and whiskey (nothing new here, just basically copying and pasting what everyone else says). Once you pop the waxed top, the smell of good old fashioned Walmart-style American breakfast wafts throughout the room, lingering for hours to remind you of its greatness, cancelling out all other scents in the air like a heavenly beer Febreze.  \\\\n\\\\nT: Imagine a chewy, whiskey-dipped brownie corner -chased with a shot of maple syrup infused roasted coffee- that assaults your palate with a heavy, sugary sweetness that brings you back to the warm and blissful memories of childhood. This is Mornin\\' Delight elevated to god-tier status with the help from a little time spent in whiskey barrels. The result is sinfully divine. \\\\n\\\\nM: Viscous and unctuous with the perfect amount of carbonation; this the beer that Untappd cicerones dream of when they discuss the term \"mouthfeel.\" This beer sticks to your membranes like Grandma\\'s classic biscuits and gravy. It is magical. It makes you not want to brush your teeth at night.\\\\n\\\\nO:  This is one of the best beers on the planet. However, I expected a life-altering craft beer experience when I opened my hand numbered bottle of Kentucky Brunch Brand Stout (note: a bottle that was hand-handed to me by Mike at Toppling Goliath), and all I got in return was an amazingly good beer and a fantastic evening together with family. Overall, it was a terrific occasion and a memorable event, but not one that stands out in my mind as one of the greatest moments of my existence.'"
      ]
     },
     "execution_count": 14,
     "metadata": {},
     "output_type": "execute_result"
    }
   ],
   "source": [
    "newString"
   ]
  },
  {
   "cell_type": "code",
   "execution_count": 10,
   "metadata": {},
   "outputs": [],
   "source": [
    "newString2 = newString.replace('\\\\n', '')"
   ]
  },
  {
   "cell_type": "code",
   "execution_count": 11,
   "metadata": {},
   "outputs": [
    {
     "data": {
      "text/plain": [
       "'Wow. More than lucky to be able to split a bottle of this with their own brewmaster! Lives up to the hype, the flavors keep changing in your mouth and you taste a whole buffet of breakfast, bourbon barrel adds some sweetness.  Sticky and coats your mouth and throat and the taste lingers for a long time.  TG creates some magnificent beers.L: Dinosaur blood with a chocolate milk head. Ultra thick lacing with great legs like T-Swizzle. S: Coffee, chocolate, maple, and whiskey (nothing new here, just basically copying and pasting what everyone else says). Once you pop the waxed top, the smell of good old fashioned Walmart-style American breakfast wafts throughout the room, lingering for hours to remind you of its greatness, cancelling out all other scents in the air like a heavenly beer Febreze.  T: Imagine a chewy, whiskey-dipped brownie corner -chased with a shot of maple syrup infused roasted coffee- that assaults your palate with a heavy, sugary sweetness that brings you back to the warm and blissful memories of childhood. This is Mornin\\' Delight elevated to god-tier status with the help from a little time spent in whiskey barrels. The result is sinfully divine. M: Viscous and unctuous with the perfect amount of carbonation; this the beer that Untappd cicerones dream of when they discuss the term \"mouthfeel.\" This beer sticks to your membranes like Grandma\\'s classic biscuits and gravy. It is magical. It makes you not want to brush your teeth at night.O:  This is one of the best beers on the planet. However, I expected a life-altering craft beer experience when I opened my hand numbered bottle of Kentucky Brunch Brand Stout (note: a bottle that was hand-handed to me by Mike at Toppling Goliath), and all I got in return was an amazingly good beer and a fantastic evening together with family. Overall, it was a terrific occasion and a memorable event, but not one that stands out in my mind as one of the greatest moments of my existence.'"
      ]
     },
     "execution_count": 11,
     "metadata": {},
     "output_type": "execute_result"
    }
   ],
   "source": [
    "newString2"
   ]
  },
  {
   "cell_type": "code",
   "execution_count": 45,
   "metadata": {},
   "outputs": [],
   "source": [
    "newString3 = newString2.replace('\\'', ' ')"
   ]
  },
  {
   "cell_type": "code",
   "execution_count": 46,
   "metadata": {},
   "outputs": [
    {
     "data": {
      "text/plain": [
       "'Wow. More than lucky to be able to split a bottle of this with their own brewmaster! Lives up to the hype, the flavors keep changing in your mouth and you taste a whole buffet of breakfast, bourbon barrel adds some sweetness.  Sticky and coats your mouth and throat and the taste lingers for a long time.  TG creates some magnificent beers.L: Dinosaur blood with a chocolate milk head. Ultra thick lacing with great legs like T-Swizzle. S: Coffee, chocolate, maple, and whiskey (nothing new here, just basically copying and pasting what everyone else says). Once you pop the waxed top, the smell of good old fashioned Walmart-style American breakfast wafts throughout the room, lingering for hours to remind you of its greatness, cancelling out all other scents in the air like a heavenly beer Febreze.  T: Imagine a chewy, whiskey-dipped brownie corner -chased with a shot of maple syrup infused roasted coffee- that assaults your palate with a heavy, sugary sweetness that brings you back to the warm and blissful memories of childhood. This is Mornin  Delight elevated to god-tier status with the help from a little time spent in whiskey barrels. The result is sinfully divine. M: Viscous and unctuous with the perfect amount of carbonation; this the beer that Untappd cicerones dream of when they discuss the term \"mouthfeel.\" This beer sticks to your membranes like Grandma s classic biscuits and gravy. It is magical. It makes you not want to brush your teeth at night.O:  This is one of the best beers on the planet. However, I expected a life-altering craft beer experience when I opened my hand numbered bottle of Kentucky Brunch Brand Stout (note: a bottle that was hand-handed to me by Mike at Toppling Goliath), and all I got in return was an amazingly good beer and a fantastic evening together with family. Overall, it was a terrific occasion and a memorable event, but not one that stands out in my mind as one of the greatest moments of my existence.'"
      ]
     },
     "execution_count": 46,
     "metadata": {},
     "output_type": "execute_result"
    }
   ],
   "source": [
    "newString3"
   ]
  },
  {
   "cell_type": "code",
   "execution_count": 42,
   "metadata": {},
   "outputs": [
    {
     "data": {
      "text/plain": [
       "'Wow. More than lucky to be able to split a bottle of this with their own brewmaster! Lives up to the hype, the flavors keep changing in your mouth and you taste a whole buffet of breakfast, bourbon barrel adds some sweetness.  Sticky and coats your mouth and throat and the taste lingers for a long time.  TG creates some magnificent beers.L: Dinosaur blood with a chocolate milk head. Ultra thick lacing with great legs like T-Swizzle. S: Coffee, chocolate, maple, and whiskey (nothing new here, just basically copying and pasting what everyone else says). Once you pop the waxed top, the smell of good old fashioned Walmart-style American breakfast wafts throughout the room, lingering for hours to remind you of its greatness, cancelling out all other scents in the air like a heavenly beer Febreze.  T: Imagine a chewy, whiskey-dipped brownie corner -chased with a shot of maple syrup infused roasted coffee- that assaults your palate with a heavy, sugary sweetness that brings you back to the warm and blissful memories of childhood. This is Mornin\\' Delight elevated to god-tier status with the help from a little time spent in whiskey barrels. The result is sinfully divine. M: Viscous and unctuous with the perfect amount of carbonation; this the beer that Untappd cicerones dream of when they discuss the term \"mouthfeel.\" This beer sticks to your membranes like Grandma\\'s classic biscuits and gravy. It is magical. It makes you not want to brush your teeth at night.O:  This is one of the best beers on the planet. However, I expected a life-altering craft beer experience when I opened my hand numbered bottle of Kentucky Brunch Brand Stout (note: a bottle that was hand-handed to me by Mike at Toppling Goliath), and all I got in return was an amazingly good beer and a fantastic evening together with family. Overall, it was a terrific occasion and a memorable event, but not one that stands out in my mind as one of the greatest moments of my existence.'"
      ]
     },
     "execution_count": 42,
     "metadata": {},
     "output_type": "execute_result"
    }
   ],
   "source": [
    "import re\n",
    "\n",
    "re.sub('\\'', '', newString3)"
   ]
  },
  {
   "cell_type": "code",
   "execution_count": null,
   "metadata": {
    "collapsed": true
   },
   "outputs": [],
   "source": []
  }
 ],
 "metadata": {
  "kernelspec": {
   "display_name": "Python 3",
   "language": "python",
   "name": "python3"
  },
  "language_info": {
   "codemirror_mode": {
    "name": "ipython",
    "version": 3
   },
   "file_extension": ".py",
   "mimetype": "text/x-python",
   "name": "python",
   "nbconvert_exporter": "python",
   "pygments_lexer": "ipython3",
   "version": "3.6.0"
  }
 },
 "nbformat": 4,
 "nbformat_minor": 2
}
